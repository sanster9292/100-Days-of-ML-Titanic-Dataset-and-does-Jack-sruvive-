{
 "cells": [
  {
   "cell_type": "markdown",
   "metadata": {
    "_uuid": "6bb474b307282fb9d469091cf850602e959c1525"
   },
   "source": [
    "# <font color = 'purple'>  TITANIC: AN EXPLORATORY DATA ANALYSIS AND PREDICTING IF JACK WOULD HAVE SURVIVED </font>\n",
    "  \n",
    "The goal of this Jupyter Notebook is to do some exploratorty data analysis on the people who were on board the RMS Titanic which met a very guesome end. I intend to use this Notebook to work on Feature Engineering and slicing data in DataFrame to prepare it for Machine Learning libraries. \n",
    "\n",
    "The second goal of this Jupyter Notebook is to see if we can predict with reasonable accuracy whether the character of Jack Dawson(portrayed by Leonardo DiCaprio) from James Cameron's Titanic would have survived. I have scoured the Internet chatrooms to find trivia information about the character and seen the movie again just to see if I can get information which related to the variables looked at in this dataset. \n",
    " \n",
    "I was able to find only segmented information regarding the character mostly because he isn't supposed to be on Titanic. He wins tickets from unnamed Swedes in gambling. The tickets however are for 3rd class and is a man of age 20 years and has no faily on board. \n",
    "\n",
    "So, to recap, this Notebook is split into two parts:\n",
    "* Exploratory Data Analysis of the Titanic Dataset \n",
    "* Setting up Machine Learning Classifers for four major algorithms used for classification problems and use each of them to see whether Jack would have survived or not."
   ]
  },
  {
   "cell_type": "markdown",
   "metadata": {
    "_uuid": "9c4f34472b2a976262a341e8e77eaef551019dc9"
   },
   "source": [
    "# <font color='Purple'>IMPORT LIBRARIES FOR DATA ANALYSIS</font>"
   ]
  },
  {
   "cell_type": "code",
   "execution_count": 2,
   "metadata": {
    "_cell_guid": "b1076dfc-b9ad-4769-8c92-a6c4dae69d19",
    "_uuid": "8f2839f25d086af736a60e9eeb907d3b93b6e0e5",
    "collapsed": true
   },
   "outputs": [],
   "source": [
    "# Libraries for data analysis\n",
    "import numpy as np # linear algebra\n",
    "import pandas as pd # data processing, CSV file I/O (e.g. pd.read_csv)\n",
    "import matplotlib.pyplot as plt\n",
    "import seaborn as sns\n",
    "import os\n",
    "# print(os.listdir(\"../input\"))\n"
   ]
  },
  {
   "cell_type": "markdown",
   "metadata": {
    "_cell_guid": "79c7e3d0-c299-4dcb-8224-4455121ee9b0",
    "_uuid": "d629ff2d2480ee46fbb7e2d37f6b5fab8052498a",
    "collapsed": true
   },
   "source": [
    "# <font color = 'purple'> Import data </font>\n"
   ]
  },
  {
   "cell_type": "code",
   "execution_count": 3,
   "metadata": {
    "_uuid": "2af297d56d20c1c1a05ac326bb8f862156366857",
    "collapsed": true
   },
   "outputs": [],
   "source": [
    "train_data = pd.read_csv('../Titanic/train.csv')\n",
    "test_data = pd.read_csv('../Titanic/test.csv')\n"
   ]
  },
  {
   "cell_type": "markdown",
   "metadata": {
    "_uuid": "9b87891c85d6d948248b2b113bfd2c1b0aad1391"
   },
   "source": [
    "## <font color = 'purple'> There are different number of columns in train and test data. I want to see which ones are the different columns </font>\n"
   ]
  },
  {
   "cell_type": "code",
   "execution_count": 4,
   "metadata": {
    "_uuid": "614d3642d73273a2355f921da99245b9208891a5"
   },
   "outputs": [
    {
     "name": "stdout",
     "output_type": "stream",
     "text": [
      "There are  11  test columns \n",
      "There are  12  train columns \n",
      "\n",
      "***********columns in test data***********\n",
      "['PassengerId' 'Pclass' 'Name' 'Sex' 'Age' 'SibSp' 'Parch' 'Ticket' 'Fare'\n",
      " 'Cabin' 'Embarked'] \n",
      "\n",
      "***********columns in train data***********\n",
      "['PassengerId' 'Survived' 'Pclass' 'Name' 'Sex' 'Age' 'SibSp' 'Parch'\n",
      " 'Ticket' 'Fare' 'Cabin' 'Embarked'] \n",
      "\n",
      "*************************************************\n",
      "The extra column in train data DataFrame is ['Survived']\n"
     ]
    }
   ],
   "source": [
    "test_columns = test_data.columns.tolist()\n",
    "train_columns = train_data.columns.tolist()\n",
    "print('There are ',len(test_columns),' test columns ')\n",
    "print('There are ',len(train_columns),' train columns \\n')\n",
    "print('***********columns in test data***********')\n",
    "print(test_data.columns.values,'\\n')\n",
    "print('***********columns in train data***********')\n",
    "print(train_data.columns.values,'\\n')\n",
    "diff= list(set(train_columns)-set(test_columns))\n",
    "print('*************************************************')\n",
    "print('The extra column in train data DataFrame is',diff)\n"
   ]
  },
  {
   "cell_type": "code",
   "execution_count": 8,
   "metadata": {},
   "outputs": [
    {
     "name": "stdout",
     "output_type": "stream",
     "text": [
      "PassengerId\n",
      "Pclass\n",
      "Name\n",
      "Sex\n",
      "Age\n",
      "SibSp\n",
      "Parch\n",
      "Ticket\n",
      "Fare\n",
      "Cabin\n",
      "Embarked\n"
     ]
    }
   ],
   "source": [
    "for x in test_columns:\n",
    "    print(x)\n"
   ]
  },
  {
   "cell_type": "markdown",
   "metadata": {
    "_uuid": "7e4fa6f0f29b3df49c1ad0ec7f6bcee0dce2ae49"
   },
   "source": [
    "## <font color='purple'>Check null or NaN values in training data </font>"
   ]
  },
  {
   "cell_type": "code",
   "execution_count": 9,
   "metadata": {
    "_uuid": "20f5d1793b472718c76cb9ecf5018c38fe66dd85",
    "scrolled": true
   },
   "outputs": [
    {
     "name": "stdout",
     "output_type": "stream",
     "text": [
      "*******The NaN values in each column******* \n",
      "\n",
      "PassengerId      0\n",
      "Survived         0\n",
      "Pclass           0\n",
      "Name             0\n",
      "Sex              0\n",
      "Age            177\n",
      "SibSp            0\n",
      "Parch            0\n",
      "Ticket           0\n",
      "Fare             0\n",
      "Cabin          687\n",
      "Embarked         2\n",
      "dtype: int64 \n",
      "\n"
     ]
    }
   ],
   "source": [
    "# There are 891 values in every column in training data except for age which has 714 values \n",
    "print('*******The NaN values in each column******* \\n')\n",
    "print(train_data.isnull().sum(),'\\n')\n"
   ]
  },
  {
   "cell_type": "code",
   "execution_count": 15,
   "metadata": {
    "_uuid": "0fe4c93b762bcef405cfaf22e7d5d34131d46a22"
   },
   "outputs": [
    {
     "name": "stdout",
     "output_type": "stream",
     "text": [
      "*******NaN values as % of 891 ******* \n",
      "\n",
      "PassengerId     0.000000\n",
      "Survived        0.000000\n",
      "Pclass          0.000000\n",
      "Name            0.000000\n",
      "Sex             0.000000\n",
      "Age            19.865320\n",
      "SibSp           0.000000\n",
      "Parch           0.000000\n",
      "Ticket          0.000000\n",
      "Fare            0.000000\n",
      "Cabin          77.104377\n",
      "Embarked        0.224467\n",
      "dtype: float64\n"
     ]
    }
   ],
   "source": [
    "print('*******NaN values as % of 891 ******* \\n')\n",
    "print((train_data.isnull().sum()/891)*100)\n",
    "\n",
    "\n"
   ]
  },
  {
   "cell_type": "markdown",
   "metadata": {
    "_uuid": "7b876654c7ee081c291f2930e3ede26f9f6b2351"
   },
   "source": [
    "## <font color= 'purple'>I am going to drop any column where more than 60% of the values are NaN </font>\n",
    "\n",
    "## <font color='red'> Observations </font >\n",
    "* So there was a column called Cabin which had 77.1% values that were NaN .  Since I chose 60 % of the values as acceptable NaN to keep the columns. Since Cabin had 77.1% values which were NaNs, so i dropped it. \n",
    "\n",
    "* There are other columns where some rows have NaN. Age has 19.86% values  and Embarrked has 0.225% values which are NaN  so I am dropping only the missing ROWS, NOT the columns."
   ]
  },
  {
   "cell_type": "code",
   "execution_count": 46,
   "metadata": {
    "_uuid": "6e8554b266168286b4988002064174f2c192041e",
    "scrolled": true
   },
   "outputs": [
    {
     "data": {
      "text/plain": [
       "PassengerId      0\n",
       "Survived         0\n",
       "Pclass           0\n",
       "Name             0\n",
       "Sex              0\n",
       "Age            177\n",
       "SibSp            0\n",
       "Parch            0\n",
       "Ticket           0\n",
       "Fare             0\n",
       "Embarked         2\n",
       "dtype: int64"
      ]
     },
     "execution_count": 46,
     "metadata": {},
     "output_type": "execute_result"
    }
   ],
   "source": [
    "train_data = pd.read_csv('../Titanic/train.csv')\n",
    "train_clean = train_data \n",
    "for col in train_clean.columns:\n",
    "    if train_clean[col].isnull().sum()/891 >= 0.6:\n",
    "        train_clean =train_clean.drop(col,axis =1)\n",
    "        \n",
    "# train_clean=train_clean.dropna(axis=0)        \n",
    "#Need to check if there are any more NaNs in the new dataframe \n",
    "train_clean.isnull().sum()/891\n",
    "train_clean.head()\n",
    "train_clean.isnull().sum()"
   ]
  },
  {
   "cell_type": "markdown",
   "metadata": {
    "_uuid": "77adbd4fa54c712ce0bd31080868d81615dc4153"
   },
   "source": [
    "\n",
    "\n",
    "## <font color ='purple'>LET'S LOOK AT THE CLEANED DATA FRAME FOR TRAINING DATA</font>"
   ]
  },
  {
   "cell_type": "code",
   "execution_count": 48,
   "metadata": {
    "_uuid": "33abc43a721773d4c88f2ac36c51e356f492479a",
    "scrolled": true
   },
   "outputs": [
    {
     "data": {
      "text/html": [
       "<div>\n",
       "<style>\n",
       "    .dataframe thead tr:only-child th {\n",
       "        text-align: right;\n",
       "    }\n",
       "\n",
       "    .dataframe thead th {\n",
       "        text-align: left;\n",
       "    }\n",
       "\n",
       "    .dataframe tbody tr th {\n",
       "        vertical-align: top;\n",
       "    }\n",
       "</style>\n",
       "<table border=\"1\" class=\"dataframe\">\n",
       "  <thead>\n",
       "    <tr style=\"text-align: right;\">\n",
       "      <th></th>\n",
       "      <th>PassengerId</th>\n",
       "      <th>Survived</th>\n",
       "      <th>Pclass</th>\n",
       "      <th>Age</th>\n",
       "      <th>SibSp</th>\n",
       "      <th>Parch</th>\n",
       "      <th>Fare</th>\n",
       "    </tr>\n",
       "  </thead>\n",
       "  <tbody>\n",
       "    <tr>\n",
       "      <th>count</th>\n",
       "      <td>891.000000</td>\n",
       "      <td>891.000000</td>\n",
       "      <td>891.000000</td>\n",
       "      <td>714.000000</td>\n",
       "      <td>891.000000</td>\n",
       "      <td>891.000000</td>\n",
       "      <td>891.000000</td>\n",
       "    </tr>\n",
       "    <tr>\n",
       "      <th>mean</th>\n",
       "      <td>446.000000</td>\n",
       "      <td>0.383838</td>\n",
       "      <td>2.308642</td>\n",
       "      <td>29.699118</td>\n",
       "      <td>0.523008</td>\n",
       "      <td>0.381594</td>\n",
       "      <td>32.204208</td>\n",
       "    </tr>\n",
       "    <tr>\n",
       "      <th>std</th>\n",
       "      <td>257.353842</td>\n",
       "      <td>0.486592</td>\n",
       "      <td>0.836071</td>\n",
       "      <td>14.526497</td>\n",
       "      <td>1.102743</td>\n",
       "      <td>0.806057</td>\n",
       "      <td>49.693429</td>\n",
       "    </tr>\n",
       "    <tr>\n",
       "      <th>min</th>\n",
       "      <td>1.000000</td>\n",
       "      <td>0.000000</td>\n",
       "      <td>1.000000</td>\n",
       "      <td>0.420000</td>\n",
       "      <td>0.000000</td>\n",
       "      <td>0.000000</td>\n",
       "      <td>0.000000</td>\n",
       "    </tr>\n",
       "    <tr>\n",
       "      <th>25%</th>\n",
       "      <td>223.500000</td>\n",
       "      <td>0.000000</td>\n",
       "      <td>2.000000</td>\n",
       "      <td>20.125000</td>\n",
       "      <td>0.000000</td>\n",
       "      <td>0.000000</td>\n",
       "      <td>7.910400</td>\n",
       "    </tr>\n",
       "    <tr>\n",
       "      <th>50%</th>\n",
       "      <td>446.000000</td>\n",
       "      <td>0.000000</td>\n",
       "      <td>3.000000</td>\n",
       "      <td>28.000000</td>\n",
       "      <td>0.000000</td>\n",
       "      <td>0.000000</td>\n",
       "      <td>14.454200</td>\n",
       "    </tr>\n",
       "    <tr>\n",
       "      <th>75%</th>\n",
       "      <td>668.500000</td>\n",
       "      <td>1.000000</td>\n",
       "      <td>3.000000</td>\n",
       "      <td>38.000000</td>\n",
       "      <td>1.000000</td>\n",
       "      <td>0.000000</td>\n",
       "      <td>31.000000</td>\n",
       "    </tr>\n",
       "    <tr>\n",
       "      <th>max</th>\n",
       "      <td>891.000000</td>\n",
       "      <td>1.000000</td>\n",
       "      <td>3.000000</td>\n",
       "      <td>80.000000</td>\n",
       "      <td>8.000000</td>\n",
       "      <td>6.000000</td>\n",
       "      <td>512.329200</td>\n",
       "    </tr>\n",
       "  </tbody>\n",
       "</table>\n",
       "</div>"
      ],
      "text/plain": [
       "       PassengerId    Survived      Pclass         Age       SibSp  \\\n",
       "count   891.000000  891.000000  891.000000  714.000000  891.000000   \n",
       "mean    446.000000    0.383838    2.308642   29.699118    0.523008   \n",
       "std     257.353842    0.486592    0.836071   14.526497    1.102743   \n",
       "min       1.000000    0.000000    1.000000    0.420000    0.000000   \n",
       "25%     223.500000    0.000000    2.000000   20.125000    0.000000   \n",
       "50%     446.000000    0.000000    3.000000   28.000000    0.000000   \n",
       "75%     668.500000    1.000000    3.000000   38.000000    1.000000   \n",
       "max     891.000000    1.000000    3.000000   80.000000    8.000000   \n",
       "\n",
       "            Parch        Fare  \n",
       "count  891.000000  891.000000  \n",
       "mean     0.381594   32.204208  \n",
       "std      0.806057   49.693429  \n",
       "min      0.000000    0.000000  \n",
       "25%      0.000000    7.910400  \n",
       "50%      0.000000   14.454200  \n",
       "75%      0.000000   31.000000  \n",
       "max      6.000000  512.329200  "
      ]
     },
     "execution_count": 48,
     "metadata": {},
     "output_type": "execute_result"
    }
   ],
   "source": [
    "train_clean.describe()\n",
    "# train_clean.isnull().values.any()"
   ]
  },
  {
   "cell_type": "code",
   "execution_count": 49,
   "metadata": {
    "_uuid": "be48785fa28f30d0296c050cb3299cf1e908e4fd"
   },
   "outputs": [
    {
     "data": {
      "text/html": [
       "<div>\n",
       "<style>\n",
       "    .dataframe thead tr:only-child th {\n",
       "        text-align: right;\n",
       "    }\n",
       "\n",
       "    .dataframe thead th {\n",
       "        text-align: left;\n",
       "    }\n",
       "\n",
       "    .dataframe tbody tr th {\n",
       "        vertical-align: top;\n",
       "    }\n",
       "</style>\n",
       "<table border=\"1\" class=\"dataframe\">\n",
       "  <thead>\n",
       "    <tr style=\"text-align: right;\">\n",
       "      <th></th>\n",
       "      <th>PassengerId</th>\n",
       "      <th>Survived</th>\n",
       "      <th>Pclass</th>\n",
       "      <th>Name</th>\n",
       "      <th>Sex</th>\n",
       "      <th>Age</th>\n",
       "      <th>SibSp</th>\n",
       "      <th>Parch</th>\n",
       "      <th>Ticket</th>\n",
       "      <th>Fare</th>\n",
       "      <th>Embarked</th>\n",
       "    </tr>\n",
       "  </thead>\n",
       "  <tbody>\n",
       "    <tr>\n",
       "      <th>601</th>\n",
       "      <td>602</td>\n",
       "      <td>0</td>\n",
       "      <td>3</td>\n",
       "      <td>Slabenoff, Mr. Petco</td>\n",
       "      <td>male</td>\n",
       "      <td>NaN</td>\n",
       "      <td>0</td>\n",
       "      <td>0</td>\n",
       "      <td>349214</td>\n",
       "      <td>7.8958</td>\n",
       "      <td>S</td>\n",
       "    </tr>\n",
       "    <tr>\n",
       "      <th>595</th>\n",
       "      <td>596</td>\n",
       "      <td>0</td>\n",
       "      <td>3</td>\n",
       "      <td>Van Impe, Mr. Jean Baptiste</td>\n",
       "      <td>male</td>\n",
       "      <td>36.0</td>\n",
       "      <td>1</td>\n",
       "      <td>1</td>\n",
       "      <td>345773</td>\n",
       "      <td>24.1500</td>\n",
       "      <td>S</td>\n",
       "    </tr>\n",
       "    <tr>\n",
       "      <th>512</th>\n",
       "      <td>513</td>\n",
       "      <td>1</td>\n",
       "      <td>1</td>\n",
       "      <td>McGough, Mr. James Robert</td>\n",
       "      <td>male</td>\n",
       "      <td>36.0</td>\n",
       "      <td>0</td>\n",
       "      <td>0</td>\n",
       "      <td>PC 17473</td>\n",
       "      <td>26.2875</td>\n",
       "      <td>S</td>\n",
       "    </tr>\n",
       "    <tr>\n",
       "      <th>422</th>\n",
       "      <td>423</td>\n",
       "      <td>0</td>\n",
       "      <td>3</td>\n",
       "      <td>Zimmerman, Mr. Leo</td>\n",
       "      <td>male</td>\n",
       "      <td>29.0</td>\n",
       "      <td>0</td>\n",
       "      <td>0</td>\n",
       "      <td>315082</td>\n",
       "      <td>7.8750</td>\n",
       "      <td>S</td>\n",
       "    </tr>\n",
       "    <tr>\n",
       "      <th>136</th>\n",
       "      <td>137</td>\n",
       "      <td>1</td>\n",
       "      <td>1</td>\n",
       "      <td>Newsom, Miss. Helen Monypeny</td>\n",
       "      <td>female</td>\n",
       "      <td>19.0</td>\n",
       "      <td>0</td>\n",
       "      <td>2</td>\n",
       "      <td>11752</td>\n",
       "      <td>26.2833</td>\n",
       "      <td>S</td>\n",
       "    </tr>\n",
       "  </tbody>\n",
       "</table>\n",
       "</div>"
      ],
      "text/plain": [
       "     PassengerId  Survived  Pclass                          Name     Sex  \\\n",
       "601          602         0       3          Slabenoff, Mr. Petco    male   \n",
       "595          596         0       3   Van Impe, Mr. Jean Baptiste    male   \n",
       "512          513         1       1     McGough, Mr. James Robert    male   \n",
       "422          423         0       3            Zimmerman, Mr. Leo    male   \n",
       "136          137         1       1  Newsom, Miss. Helen Monypeny  female   \n",
       "\n",
       "      Age  SibSp  Parch    Ticket     Fare Embarked  \n",
       "601   NaN      0      0    349214   7.8958        S  \n",
       "595  36.0      1      1    345773  24.1500        S  \n",
       "512  36.0      0      0  PC 17473  26.2875        S  \n",
       "422  29.0      0      0    315082   7.8750        S  \n",
       "136  19.0      0      2     11752  26.2833        S  "
      ]
     },
     "execution_count": 49,
     "metadata": {},
     "output_type": "execute_result"
    }
   ],
   "source": [
    "train_clean.sample(5)"
   ]
  },
  {
   "cell_type": "markdown",
   "metadata": {
    "_uuid": "edcebe248219031651cb0c956b70e0210864bc85"
   },
   "source": [
    "## <font color ='purple'>Let's take care of the missing values in Age column </font>\n",
    "\n",
    "I am filling the missing values in the Age column by taking the mean of the column and plugging that value back into the the missing rows in the Age column. Pandas provides you the option to choose the values that you want to replace the missing values with.\n"
   ]
  },
  {
   "cell_type": "code",
   "execution_count": 50,
   "metadata": {
    "_uuid": "cfae3bf854dd65dd83d46704faf74ca0f62d0234",
    "scrolled": false
   },
   "outputs": [
    {
     "data": {
      "text/plain": [
       "PassengerId    0\n",
       "Survived       0\n",
       "Pclass         0\n",
       "Name           0\n",
       "Sex            0\n",
       "Age            0\n",
       "SibSp          0\n",
       "Parch          0\n",
       "Ticket         0\n",
       "Fare           0\n",
       "Embarked       2\n",
       "dtype: int64"
      ]
     },
     "execution_count": 50,
     "metadata": {},
     "output_type": "execute_result"
    }
   ],
   "source": [
    "'''\n",
    "There are 177 NaN values in Age. This is because there are empty Age values for whatever reason. I am going to fill these\n",
    "empty values with the mean age\n",
    "'''\n",
    "train_clean['Age'] =  train_clean['Age'].fillna(train_clean['Age'].mean())\n",
    "train_clean.isnull().sum()\n"
   ]
  },
  {
   "cell_type": "markdown",
   "metadata": {
    "_uuid": "1703015f53a9058fde203cbd8be0eb268bd66421"
   },
   "source": [
    "<font color ='purple'>**There are still some NaN values in Embarked column. I am going to repeat the proceedure that I used with Age and fill the missing rows in Embarked.**</font>\n"
   ]
  },
  {
   "cell_type": "code",
   "execution_count": 51,
   "metadata": {
    "_uuid": "822f42874d7c6d50a8ead019822d8e2cb71e9382",
    "scrolled": true
   },
   "outputs": [
    {
     "data": {
      "text/plain": [
       "0"
      ]
     },
     "execution_count": 51,
     "metadata": {},
     "output_type": "execute_result"
    }
   ],
   "source": [
    "train_clean= train_clean.fillna(train_clean.mean())\n",
    "\n",
    "train_clean.isnull().sum()\n",
    "train_clean=train_clean.dropna(axis=0)\n",
    "train_clean['Embarked'].isnull().sum()"
   ]
  },
  {
   "cell_type": "markdown",
   "metadata": {
    "_uuid": "5b22fde9457d521c5bc5459a40a80f024d9eab44"
   },
   "source": [
    "# <font color ='purple'> TIME TO CLEAN THE TEST DATA. </font>\n",
    "\n",
    "**Observations**\n",
    "* 25.9% of all the Age values in the TEST dataset are all NaNs. **I am going to fill them with the mean value of the Age column in the testing dataset.**\n",
    "* 0.239% of all values in Fare are NaN. **I will fill these as well with the mean of the column in the test set.**\n",
    "* The rest of the columns don't have any empty values.\n",
    "* I got rid of the Cabin column since I took it out in the train dataset as well."
   ]
  },
  {
   "cell_type": "code",
   "execution_count": 52,
   "metadata": {
    "_uuid": "d9e245b3e8580967ce355c7c85caf70c19eca2ba",
    "scrolled": true
   },
   "outputs": [
    {
     "data": {
      "text/html": [
       "<div>\n",
       "<style>\n",
       "    .dataframe thead tr:only-child th {\n",
       "        text-align: right;\n",
       "    }\n",
       "\n",
       "    .dataframe thead th {\n",
       "        text-align: left;\n",
       "    }\n",
       "\n",
       "    .dataframe tbody tr th {\n",
       "        vertical-align: top;\n",
       "    }\n",
       "</style>\n",
       "<table border=\"1\" class=\"dataframe\">\n",
       "  <thead>\n",
       "    <tr style=\"text-align: right;\">\n",
       "      <th></th>\n",
       "      <th>PassengerId</th>\n",
       "      <th>Pclass</th>\n",
       "      <th>Age</th>\n",
       "      <th>SibSp</th>\n",
       "      <th>Parch</th>\n",
       "      <th>Fare</th>\n",
       "    </tr>\n",
       "  </thead>\n",
       "  <tbody>\n",
       "    <tr>\n",
       "      <th>count</th>\n",
       "      <td>418.000000</td>\n",
       "      <td>418.000000</td>\n",
       "      <td>332.000000</td>\n",
       "      <td>418.000000</td>\n",
       "      <td>418.000000</td>\n",
       "      <td>417.000000</td>\n",
       "    </tr>\n",
       "    <tr>\n",
       "      <th>mean</th>\n",
       "      <td>1100.500000</td>\n",
       "      <td>2.265550</td>\n",
       "      <td>30.272590</td>\n",
       "      <td>0.447368</td>\n",
       "      <td>0.392344</td>\n",
       "      <td>35.627188</td>\n",
       "    </tr>\n",
       "    <tr>\n",
       "      <th>std</th>\n",
       "      <td>120.810458</td>\n",
       "      <td>0.841838</td>\n",
       "      <td>14.181209</td>\n",
       "      <td>0.896760</td>\n",
       "      <td>0.981429</td>\n",
       "      <td>55.907576</td>\n",
       "    </tr>\n",
       "    <tr>\n",
       "      <th>min</th>\n",
       "      <td>892.000000</td>\n",
       "      <td>1.000000</td>\n",
       "      <td>0.170000</td>\n",
       "      <td>0.000000</td>\n",
       "      <td>0.000000</td>\n",
       "      <td>0.000000</td>\n",
       "    </tr>\n",
       "    <tr>\n",
       "      <th>25%</th>\n",
       "      <td>996.250000</td>\n",
       "      <td>1.000000</td>\n",
       "      <td>21.000000</td>\n",
       "      <td>0.000000</td>\n",
       "      <td>0.000000</td>\n",
       "      <td>7.895800</td>\n",
       "    </tr>\n",
       "    <tr>\n",
       "      <th>50%</th>\n",
       "      <td>1100.500000</td>\n",
       "      <td>3.000000</td>\n",
       "      <td>27.000000</td>\n",
       "      <td>0.000000</td>\n",
       "      <td>0.000000</td>\n",
       "      <td>14.454200</td>\n",
       "    </tr>\n",
       "    <tr>\n",
       "      <th>75%</th>\n",
       "      <td>1204.750000</td>\n",
       "      <td>3.000000</td>\n",
       "      <td>39.000000</td>\n",
       "      <td>1.000000</td>\n",
       "      <td>0.000000</td>\n",
       "      <td>31.500000</td>\n",
       "    </tr>\n",
       "    <tr>\n",
       "      <th>max</th>\n",
       "      <td>1309.000000</td>\n",
       "      <td>3.000000</td>\n",
       "      <td>76.000000</td>\n",
       "      <td>8.000000</td>\n",
       "      <td>9.000000</td>\n",
       "      <td>512.329200</td>\n",
       "    </tr>\n",
       "  </tbody>\n",
       "</table>\n",
       "</div>"
      ],
      "text/plain": [
       "       PassengerId      Pclass         Age       SibSp       Parch        Fare\n",
       "count   418.000000  418.000000  332.000000  418.000000  418.000000  417.000000\n",
       "mean   1100.500000    2.265550   30.272590    0.447368    0.392344   35.627188\n",
       "std     120.810458    0.841838   14.181209    0.896760    0.981429   55.907576\n",
       "min     892.000000    1.000000    0.170000    0.000000    0.000000    0.000000\n",
       "25%     996.250000    1.000000   21.000000    0.000000    0.000000    7.895800\n",
       "50%    1100.500000    3.000000   27.000000    0.000000    0.000000   14.454200\n",
       "75%    1204.750000    3.000000   39.000000    1.000000    0.000000   31.500000\n",
       "max    1309.000000    3.000000   76.000000    8.000000    9.000000  512.329200"
      ]
     },
     "execution_count": 52,
     "metadata": {},
     "output_type": "execute_result"
    }
   ],
   "source": [
    "test_data = pd.read_csv('../Titanic/test.csv')\n",
    "test_data.sample(5)\n",
    "# test_data.isnull().sum()\n",
    "test_data = test_data.drop('Cabin', axis=1)\n",
    "test_data.describe()\n",
    "# test_data['Age'].count()\n",
    "# test_data.columns"
   ]
  },
  {
   "cell_type": "code",
   "execution_count": 53,
   "metadata": {
    "_uuid": "8ef0b4846f572acc8c30efe7553ef4e19b8fc539"
   },
   "outputs": [
    {
     "name": "stdout",
     "output_type": "stream",
     "text": [
      "*******NaN values as % of the count of the values in each column ******* \n",
      "\n",
      "PassengerId : 0.0 % values are NaNs\n",
      "Pclass : 0.0 % values are NaNs\n",
      "Name : 0.0 % values are NaNs\n",
      "Sex : 0.0 % values are NaNs\n",
      "Age : 25.9036144578 % values are NaNs\n",
      "SibSp : 0.0 % values are NaNs\n",
      "Parch : 0.0 % values are NaNs\n",
      "Ticket : 0.0 % values are NaNs\n",
      "Fare : 0.239808153477 % values are NaNs\n",
      "Embarked : 0.0 % values are NaNs\n"
     ]
    }
   ],
   "source": [
    "print('*******NaN values as % of the count of the values in each column ******* \\n')\n",
    "# test_data.isnull().sum()/test_data[]\n",
    "for col in test_data.columns:\n",
    "    print(col,':',(test_data[col].isnull().sum()/test_data[col].count())*100,'% values are NaNs')"
   ]
  },
  {
   "cell_type": "code",
   "execution_count": 54,
   "metadata": {
    "_uuid": "acc62f21da206668bef1165096a59254b81f58e2"
   },
   "outputs": [
    {
     "data": {
      "text/html": [
       "<div>\n",
       "<style>\n",
       "    .dataframe thead tr:only-child th {\n",
       "        text-align: right;\n",
       "    }\n",
       "\n",
       "    .dataframe thead th {\n",
       "        text-align: left;\n",
       "    }\n",
       "\n",
       "    .dataframe tbody tr th {\n",
       "        vertical-align: top;\n",
       "    }\n",
       "</style>\n",
       "<table border=\"1\" class=\"dataframe\">\n",
       "  <thead>\n",
       "    <tr style=\"text-align: right;\">\n",
       "      <th></th>\n",
       "      <th>PassengerId</th>\n",
       "      <th>Pclass</th>\n",
       "      <th>Name</th>\n",
       "      <th>Sex</th>\n",
       "      <th>Age</th>\n",
       "      <th>SibSp</th>\n",
       "      <th>Parch</th>\n",
       "      <th>Ticket</th>\n",
       "      <th>Fare</th>\n",
       "      <th>Embarked</th>\n",
       "    </tr>\n",
       "  </thead>\n",
       "  <tbody>\n",
       "    <tr>\n",
       "      <th>205</th>\n",
       "      <td>1097</td>\n",
       "      <td>1</td>\n",
       "      <td>Omont, Mr. Alfred Fernand</td>\n",
       "      <td>male</td>\n",
       "      <td>30.27259</td>\n",
       "      <td>0</td>\n",
       "      <td>0</td>\n",
       "      <td>F.C. 12998</td>\n",
       "      <td>25.7417</td>\n",
       "      <td>C</td>\n",
       "    </tr>\n",
       "    <tr>\n",
       "      <th>315</th>\n",
       "      <td>1207</td>\n",
       "      <td>3</td>\n",
       "      <td>Hagardon, Miss. Kate</td>\n",
       "      <td>female</td>\n",
       "      <td>17.00000</td>\n",
       "      <td>0</td>\n",
       "      <td>0</td>\n",
       "      <td>AQ/3. 30631</td>\n",
       "      <td>7.7333</td>\n",
       "      <td>Q</td>\n",
       "    </tr>\n",
       "    <tr>\n",
       "      <th>235</th>\n",
       "      <td>1127</td>\n",
       "      <td>3</td>\n",
       "      <td>Vendel, Mr. Olof Edvin</td>\n",
       "      <td>male</td>\n",
       "      <td>20.00000</td>\n",
       "      <td>0</td>\n",
       "      <td>0</td>\n",
       "      <td>350416</td>\n",
       "      <td>7.8542</td>\n",
       "      <td>S</td>\n",
       "    </tr>\n",
       "    <tr>\n",
       "      <th>270</th>\n",
       "      <td>1162</td>\n",
       "      <td>1</td>\n",
       "      <td>McCaffry, Mr. Thomas Francis</td>\n",
       "      <td>male</td>\n",
       "      <td>46.00000</td>\n",
       "      <td>0</td>\n",
       "      <td>0</td>\n",
       "      <td>13050</td>\n",
       "      <td>75.2417</td>\n",
       "      <td>C</td>\n",
       "    </tr>\n",
       "    <tr>\n",
       "      <th>57</th>\n",
       "      <td>949</td>\n",
       "      <td>3</td>\n",
       "      <td>Abelseth, Mr. Olaus Jorgensen</td>\n",
       "      <td>male</td>\n",
       "      <td>25.00000</td>\n",
       "      <td>0</td>\n",
       "      <td>0</td>\n",
       "      <td>348122</td>\n",
       "      <td>7.6500</td>\n",
       "      <td>S</td>\n",
       "    </tr>\n",
       "    <tr>\n",
       "      <th>228</th>\n",
       "      <td>1120</td>\n",
       "      <td>3</td>\n",
       "      <td>Everett, Mr. Thomas James</td>\n",
       "      <td>male</td>\n",
       "      <td>40.50000</td>\n",
       "      <td>0</td>\n",
       "      <td>0</td>\n",
       "      <td>C.A. 6212</td>\n",
       "      <td>15.1000</td>\n",
       "      <td>S</td>\n",
       "    </tr>\n",
       "    <tr>\n",
       "      <th>277</th>\n",
       "      <td>1169</td>\n",
       "      <td>2</td>\n",
       "      <td>Faunthorpe, Mr. Harry</td>\n",
       "      <td>male</td>\n",
       "      <td>40.00000</td>\n",
       "      <td>1</td>\n",
       "      <td>0</td>\n",
       "      <td>2926</td>\n",
       "      <td>26.0000</td>\n",
       "      <td>S</td>\n",
       "    </tr>\n",
       "    <tr>\n",
       "      <th>100</th>\n",
       "      <td>992</td>\n",
       "      <td>1</td>\n",
       "      <td>Stengel, Mrs. Charles Emil Henry (Annie May Mo...</td>\n",
       "      <td>female</td>\n",
       "      <td>43.00000</td>\n",
       "      <td>1</td>\n",
       "      <td>0</td>\n",
       "      <td>11778</td>\n",
       "      <td>55.4417</td>\n",
       "      <td>C</td>\n",
       "    </tr>\n",
       "    <tr>\n",
       "      <th>236</th>\n",
       "      <td>1128</td>\n",
       "      <td>1</td>\n",
       "      <td>Warren, Mr. Frank Manley</td>\n",
       "      <td>male</td>\n",
       "      <td>64.00000</td>\n",
       "      <td>1</td>\n",
       "      <td>0</td>\n",
       "      <td>110813</td>\n",
       "      <td>75.2500</td>\n",
       "      <td>C</td>\n",
       "    </tr>\n",
       "    <tr>\n",
       "      <th>293</th>\n",
       "      <td>1185</td>\n",
       "      <td>1</td>\n",
       "      <td>Dodge, Dr. Washington</td>\n",
       "      <td>male</td>\n",
       "      <td>53.00000</td>\n",
       "      <td>1</td>\n",
       "      <td>1</td>\n",
       "      <td>33638</td>\n",
       "      <td>81.8583</td>\n",
       "      <td>S</td>\n",
       "    </tr>\n",
       "  </tbody>\n",
       "</table>\n",
       "</div>"
      ],
      "text/plain": [
       "     PassengerId  Pclass                                               Name  \\\n",
       "205         1097       1                          Omont, Mr. Alfred Fernand   \n",
       "315         1207       3                               Hagardon, Miss. Kate   \n",
       "235         1127       3                             Vendel, Mr. Olof Edvin   \n",
       "270         1162       1                       McCaffry, Mr. Thomas Francis   \n",
       "57           949       3                      Abelseth, Mr. Olaus Jorgensen   \n",
       "228         1120       3                          Everett, Mr. Thomas James   \n",
       "277         1169       2                              Faunthorpe, Mr. Harry   \n",
       "100          992       1  Stengel, Mrs. Charles Emil Henry (Annie May Mo...   \n",
       "236         1128       1                           Warren, Mr. Frank Manley   \n",
       "293         1185       1                              Dodge, Dr. Washington   \n",
       "\n",
       "        Sex       Age  SibSp  Parch       Ticket     Fare Embarked  \n",
       "205    male  30.27259      0      0   F.C. 12998  25.7417        C  \n",
       "315  female  17.00000      0      0  AQ/3. 30631   7.7333        Q  \n",
       "235    male  20.00000      0      0       350416   7.8542        S  \n",
       "270    male  46.00000      0      0        13050  75.2417        C  \n",
       "57     male  25.00000      0      0       348122   7.6500        S  \n",
       "228    male  40.50000      0      0    C.A. 6212  15.1000        S  \n",
       "277    male  40.00000      1      0         2926  26.0000        S  \n",
       "100  female  43.00000      1      0        11778  55.4417        C  \n",
       "236    male  64.00000      1      0       110813  75.2500        C  \n",
       "293    male  53.00000      1      1        33638  81.8583        S  "
      ]
     },
     "execution_count": 54,
     "metadata": {},
     "output_type": "execute_result"
    }
   ],
   "source": [
    "# FIX AGE AND FARE COLUMN IN THE TEST SET.\n",
    "\n",
    "## AGE \n",
    "test_data['Age'] = test_data['Age'].fillna(test_data['Age'].mean())\n",
    "test_data.isnull().sum() # no NaNs in the Age column\n",
    "# test_data.sample(5)\n",
    "\n",
    "## FARE\n",
    "test_data['Fare'] = test_data['Fare'].fillna(test_data['Fare'].mean())\n",
    "# test_data.isnull().sum()  # no NaNs in the Fare column\n",
    "\n",
    "test_clean = test_data\n",
    "test_clean.sample(10)\n"
   ]
  },
  {
   "cell_type": "code",
   "execution_count": 55,
   "metadata": {
    "_uuid": "1809ed189e53b66154578a9f011189e0f1c4ad47"
   },
   "outputs": [
    {
     "data": {
      "text/plain": [
       "PassengerId    0\n",
       "Pclass         0\n",
       "Name           0\n",
       "Sex            0\n",
       "Age            0\n",
       "SibSp          0\n",
       "Parch          0\n",
       "Ticket         0\n",
       "Fare           0\n",
       "Embarked       0\n",
       "dtype: int64"
      ]
     },
     "execution_count": 55,
     "metadata": {},
     "output_type": "execute_result"
    }
   ],
   "source": [
    "test_clean.isnull().sum()"
   ]
  },
  {
   "cell_type": "markdown",
   "metadata": {
    "_uuid": "5a8b1080f9bffd3ed17a2ce1cc7a735b65a274a8"
   },
   "source": [
    "## <font color ='red'>So, we just cleaned the TEST dataset. It doesn't have any more NaNs and has the same columns as the TRAIN set, so we should be set to move on.\n",
    "</font>"
   ]
  },
  {
   "cell_type": "markdown",
   "metadata": {
    "_uuid": "d21bb8f56d9e51462c861953eab126860110bc6f"
   },
   "source": [
    "## <font color ='Mauve'>Below, I am creating temporary variables to store training and test set. This is because down the line while creating Fare segmentation has the tendency to mess up my saved and cleaned trained/test set. By creating temporary variables, I get around this.</font>"
   ]
  },
  {
   "cell_type": "code",
   "execution_count": 56,
   "metadata": {
    "_uuid": "b4847140cd234a472505fc7a6453e8899cb0da38",
    "collapsed": true
   },
   "outputs": [],
   "source": [
    "# temp variables just so I don't have to reload training, testing data and then cleaning it\n",
    "train_try = train_clean\n",
    "test_try = test_clean\n",
    "data_all = [train_try,test_try]"
   ]
  },
  {
   "cell_type": "code",
   "execution_count": 57,
   "metadata": {},
   "outputs": [
    {
     "data": {
      "text/plain": [
       "358      7.8792\n",
       "144     11.5000\n",
       "174     30.6958\n",
       "393    113.2750\n",
       "308     24.0000\n",
       "68       7.9250\n",
       "34      82.1708\n",
       "32       7.7500\n",
       "169     56.4958\n",
       "313      7.8958\n",
       "Name: Fare, dtype: float64"
      ]
     },
     "execution_count": 57,
     "metadata": {},
     "output_type": "execute_result"
    }
   ],
   "source": [
    "train_try['Fare'].sample(10)"
   ]
  },
  {
   "cell_type": "markdown",
   "metadata": {
    "_uuid": "fb2c1eb823c6cc4a261642a0de65fed91a21c277"
   },
   "source": [
    "# <font color= 'purple'>I was reading through other kernels and read the approach taken in this kernel towards Fare and using it: </font>\n",
    "    https://www.kaggle.com/startupsci/titanic-data-science-solutions\n",
    "    \n",
    "**The author here us creating a new Feature called FareBand by changing the Fare values to ordinal values. I find this approach interesting and hence am incorporating this in.**\n",
    "\n",
    "* The author sets off by using the *pd.qcut* function to built quantiles and then group the survived based on the quantiles of the fare prices instead of  looking at the 'Fare' values as a continuous range of values."
   ]
  },
  {
   "cell_type": "code",
   "execution_count": 58,
   "metadata": {
    "_uuid": "67395a845ab7f92026996c6bcc1c0270339055c0",
    "scrolled": true
   },
   "outputs": [
    {
     "data": {
      "text/html": [
       "<div>\n",
       "<style>\n",
       "    .dataframe thead tr:only-child th {\n",
       "        text-align: right;\n",
       "    }\n",
       "\n",
       "    .dataframe thead th {\n",
       "        text-align: left;\n",
       "    }\n",
       "\n",
       "    .dataframe tbody tr th {\n",
       "        vertical-align: top;\n",
       "    }\n",
       "</style>\n",
       "<table border=\"1\" class=\"dataframe\">\n",
       "  <thead>\n",
       "    <tr style=\"text-align: right;\">\n",
       "      <th></th>\n",
       "      <th>FareBand</th>\n",
       "      <th>Survived</th>\n",
       "    </tr>\n",
       "  </thead>\n",
       "  <tbody>\n",
       "    <tr>\n",
       "      <th>0</th>\n",
       "      <td>(-0.001, 7.896]</td>\n",
       "      <td>0.197309</td>\n",
       "    </tr>\n",
       "    <tr>\n",
       "      <th>1</th>\n",
       "      <td>(7.896, 14.454]</td>\n",
       "      <td>0.303571</td>\n",
       "    </tr>\n",
       "    <tr>\n",
       "      <th>2</th>\n",
       "      <td>(14.454, 31.0]</td>\n",
       "      <td>0.454955</td>\n",
       "    </tr>\n",
       "    <tr>\n",
       "      <th>3</th>\n",
       "      <td>(31.0, 512.329]</td>\n",
       "      <td>0.577273</td>\n",
       "    </tr>\n",
       "  </tbody>\n",
       "</table>\n",
       "</div>"
      ],
      "text/plain": [
       "          FareBand  Survived\n",
       "0  (-0.001, 7.896]  0.197309\n",
       "1  (7.896, 14.454]  0.303571\n",
       "2   (14.454, 31.0]  0.454955\n",
       "3  (31.0, 512.329]  0.577273"
      ]
     },
     "execution_count": 58,
     "metadata": {},
     "output_type": "execute_result"
    }
   ],
   "source": [
    "train_try['FareBand'] = pd.qcut(train_try['Fare'], 4)\n",
    "test_try['FareBand'] = pd.qcut(test_try['Fare'],4)\n",
    "train_try[['FareBand', 'Survived']].groupby(['FareBand'], as_index=False).mean().sort_values(by='FareBand', ascending=True)\n",
    "# test_clean[['FareBand', 'Survived']].groupby(['FareBand'], as_index=False).mean().sort_values(by='FareBand', ascending=True)"
   ]
  },
  {
   "cell_type": "code",
   "execution_count": 59,
   "metadata": {
    "_uuid": "4a6ed827b77b01a9fa07073a4e1f765b6b7b2fb4"
   },
   "outputs": [
    {
     "data": {
      "text/html": [
       "<div>\n",
       "<style>\n",
       "    .dataframe thead tr:only-child th {\n",
       "        text-align: right;\n",
       "    }\n",
       "\n",
       "    .dataframe thead th {\n",
       "        text-align: left;\n",
       "    }\n",
       "\n",
       "    .dataframe tbody tr th {\n",
       "        vertical-align: top;\n",
       "    }\n",
       "</style>\n",
       "<table border=\"1\" class=\"dataframe\">\n",
       "  <thead>\n",
       "    <tr style=\"text-align: right;\">\n",
       "      <th></th>\n",
       "      <th>PassengerId</th>\n",
       "      <th>Pclass</th>\n",
       "      <th>Name</th>\n",
       "      <th>Sex</th>\n",
       "      <th>Age</th>\n",
       "      <th>SibSp</th>\n",
       "      <th>Parch</th>\n",
       "      <th>Ticket</th>\n",
       "      <th>Fare</th>\n",
       "      <th>Embarked</th>\n",
       "      <th>FareBand</th>\n",
       "    </tr>\n",
       "  </thead>\n",
       "  <tbody>\n",
       "    <tr>\n",
       "      <th>157</th>\n",
       "      <td>1049</td>\n",
       "      <td>3</td>\n",
       "      <td>Lundin, Miss. Olga Elida</td>\n",
       "      <td>female</td>\n",
       "      <td>23.00000</td>\n",
       "      <td>0</td>\n",
       "      <td>0</td>\n",
       "      <td>347469</td>\n",
       "      <td>7.8542</td>\n",
       "      <td>S</td>\n",
       "      <td>(-0.001, 7.896]</td>\n",
       "    </tr>\n",
       "    <tr>\n",
       "      <th>231</th>\n",
       "      <td>1123</td>\n",
       "      <td>1</td>\n",
       "      <td>Willard, Miss. Constance</td>\n",
       "      <td>female</td>\n",
       "      <td>21.00000</td>\n",
       "      <td>0</td>\n",
       "      <td>0</td>\n",
       "      <td>113795</td>\n",
       "      <td>26.5500</td>\n",
       "      <td>S</td>\n",
       "      <td>(14.454, 31.5]</td>\n",
       "    </tr>\n",
       "    <tr>\n",
       "      <th>259</th>\n",
       "      <td>1151</td>\n",
       "      <td>3</td>\n",
       "      <td>Midtsjo, Mr. Karl Albert</td>\n",
       "      <td>male</td>\n",
       "      <td>21.00000</td>\n",
       "      <td>0</td>\n",
       "      <td>0</td>\n",
       "      <td>345501</td>\n",
       "      <td>7.7750</td>\n",
       "      <td>S</td>\n",
       "      <td>(-0.001, 7.896]</td>\n",
       "    </tr>\n",
       "    <tr>\n",
       "      <th>13</th>\n",
       "      <td>905</td>\n",
       "      <td>2</td>\n",
       "      <td>Howard, Mr. Benjamin</td>\n",
       "      <td>male</td>\n",
       "      <td>63.00000</td>\n",
       "      <td>1</td>\n",
       "      <td>0</td>\n",
       "      <td>24065</td>\n",
       "      <td>26.0000</td>\n",
       "      <td>S</td>\n",
       "      <td>(14.454, 31.5]</td>\n",
       "    </tr>\n",
       "    <tr>\n",
       "      <th>99</th>\n",
       "      <td>991</td>\n",
       "      <td>3</td>\n",
       "      <td>Nancarrow, Mr. William Henry</td>\n",
       "      <td>male</td>\n",
       "      <td>33.00000</td>\n",
       "      <td>0</td>\n",
       "      <td>0</td>\n",
       "      <td>A./5. 3338</td>\n",
       "      <td>8.0500</td>\n",
       "      <td>S</td>\n",
       "      <td>(7.896, 14.454]</td>\n",
       "    </tr>\n",
       "    <tr>\n",
       "      <th>11</th>\n",
       "      <td>903</td>\n",
       "      <td>1</td>\n",
       "      <td>Jones, Mr. Charles Cresson</td>\n",
       "      <td>male</td>\n",
       "      <td>46.00000</td>\n",
       "      <td>0</td>\n",
       "      <td>0</td>\n",
       "      <td>694</td>\n",
       "      <td>26.0000</td>\n",
       "      <td>S</td>\n",
       "      <td>(14.454, 31.5]</td>\n",
       "    </tr>\n",
       "    <tr>\n",
       "      <th>322</th>\n",
       "      <td>1214</td>\n",
       "      <td>2</td>\n",
       "      <td>Nesson, Mr. Israel</td>\n",
       "      <td>male</td>\n",
       "      <td>26.00000</td>\n",
       "      <td>0</td>\n",
       "      <td>0</td>\n",
       "      <td>244368</td>\n",
       "      <td>13.0000</td>\n",
       "      <td>S</td>\n",
       "      <td>(7.896, 14.454]</td>\n",
       "    </tr>\n",
       "    <tr>\n",
       "      <th>101</th>\n",
       "      <td>993</td>\n",
       "      <td>2</td>\n",
       "      <td>Weisz, Mr. Leopold</td>\n",
       "      <td>male</td>\n",
       "      <td>27.00000</td>\n",
       "      <td>1</td>\n",
       "      <td>0</td>\n",
       "      <td>228414</td>\n",
       "      <td>26.0000</td>\n",
       "      <td>S</td>\n",
       "      <td>(14.454, 31.5]</td>\n",
       "    </tr>\n",
       "    <tr>\n",
       "      <th>62</th>\n",
       "      <td>954</td>\n",
       "      <td>3</td>\n",
       "      <td>Bjorklund, Mr. Ernst Herbert</td>\n",
       "      <td>male</td>\n",
       "      <td>18.00000</td>\n",
       "      <td>0</td>\n",
       "      <td>0</td>\n",
       "      <td>347090</td>\n",
       "      <td>7.7500</td>\n",
       "      <td>S</td>\n",
       "      <td>(-0.001, 7.896]</td>\n",
       "    </tr>\n",
       "    <tr>\n",
       "      <th>380</th>\n",
       "      <td>1272</td>\n",
       "      <td>3</td>\n",
       "      <td>O'Connor, Mr. Patrick</td>\n",
       "      <td>male</td>\n",
       "      <td>30.27259</td>\n",
       "      <td>0</td>\n",
       "      <td>0</td>\n",
       "      <td>366713</td>\n",
       "      <td>7.7500</td>\n",
       "      <td>Q</td>\n",
       "      <td>(-0.001, 7.896]</td>\n",
       "    </tr>\n",
       "  </tbody>\n",
       "</table>\n",
       "</div>"
      ],
      "text/plain": [
       "     PassengerId  Pclass                          Name     Sex       Age  \\\n",
       "157         1049       3      Lundin, Miss. Olga Elida  female  23.00000   \n",
       "231         1123       1      Willard, Miss. Constance  female  21.00000   \n",
       "259         1151       3      Midtsjo, Mr. Karl Albert    male  21.00000   \n",
       "13           905       2          Howard, Mr. Benjamin    male  63.00000   \n",
       "99           991       3  Nancarrow, Mr. William Henry    male  33.00000   \n",
       "11           903       1    Jones, Mr. Charles Cresson    male  46.00000   \n",
       "322         1214       2            Nesson, Mr. Israel    male  26.00000   \n",
       "101          993       2            Weisz, Mr. Leopold    male  27.00000   \n",
       "62           954       3  Bjorklund, Mr. Ernst Herbert    male  18.00000   \n",
       "380         1272       3         O'Connor, Mr. Patrick    male  30.27259   \n",
       "\n",
       "     SibSp  Parch      Ticket     Fare Embarked         FareBand  \n",
       "157      0      0      347469   7.8542        S  (-0.001, 7.896]  \n",
       "231      0      0      113795  26.5500        S   (14.454, 31.5]  \n",
       "259      0      0      345501   7.7750        S  (-0.001, 7.896]  \n",
       "13       1      0       24065  26.0000        S   (14.454, 31.5]  \n",
       "99       0      0  A./5. 3338   8.0500        S  (7.896, 14.454]  \n",
       "11       0      0         694  26.0000        S   (14.454, 31.5]  \n",
       "322      0      0      244368  13.0000        S  (7.896, 14.454]  \n",
       "101      1      0      228414  26.0000        S   (14.454, 31.5]  \n",
       "62       0      0      347090   7.7500        S  (-0.001, 7.896]  \n",
       "380      0      0      366713   7.7500        Q  (-0.001, 7.896]  "
      ]
     },
     "execution_count": 59,
     "metadata": {},
     "output_type": "execute_result"
    }
   ],
   "source": [
    "# train_clean.sample(5)\n",
    "# train_try  = train_clean\n",
    "# test_try = test_clean\n",
    "type(train_try)\n",
    "test_try.sample(10)\n"
   ]
  },
  {
   "cell_type": "code",
   "execution_count": 60,
   "metadata": {
    "_uuid": "0944da807bb873a008232d65fcffd729539596d9",
    "collapsed": true
   },
   "outputs": [],
   "source": [
    "for dataset in data_all:\n",
    "    dataset.loc[ dataset['Fare'] <= 7.91, 'Fare'] = 0\n",
    "    dataset.loc[(dataset['Fare'] > 7.91) & (dataset['Fare'] <= 14.454), 'Fare'] = 1\n",
    "    dataset.loc[(dataset['Fare'] > 14.454) & (dataset['Fare'] <= 31), 'Fare']   = 2\n",
    "    dataset.loc[ dataset['Fare'] > 31, 'Fare'] = 3\n",
    "    dataset['Fare'] = dataset['Fare'].astype(int)\n",
    "\n"
   ]
  },
  {
   "cell_type": "code",
   "execution_count": 61,
   "metadata": {
    "_uuid": "8de3e2c19cc894b1e39a5097cff37a85a80f7b72",
    "collapsed": true
   },
   "outputs": [],
   "source": [
    "train_try = train_try.drop(['FareBand'], axis=1)\n",
    "test_try = test_try.drop(['FareBand'], axis =1)"
   ]
  },
  {
   "cell_type": "code",
   "execution_count": 62,
   "metadata": {
    "_uuid": "75d512fd46ec66baaca6692c2c55a97989937990"
   },
   "outputs": [
    {
     "data": {
      "text/html": [
       "<div>\n",
       "<style>\n",
       "    .dataframe thead tr:only-child th {\n",
       "        text-align: right;\n",
       "    }\n",
       "\n",
       "    .dataframe thead th {\n",
       "        text-align: left;\n",
       "    }\n",
       "\n",
       "    .dataframe tbody tr th {\n",
       "        vertical-align: top;\n",
       "    }\n",
       "</style>\n",
       "<table border=\"1\" class=\"dataframe\">\n",
       "  <thead>\n",
       "    <tr style=\"text-align: right;\">\n",
       "      <th></th>\n",
       "      <th>PassengerId</th>\n",
       "      <th>Survived</th>\n",
       "      <th>Pclass</th>\n",
       "      <th>Name</th>\n",
       "      <th>Sex</th>\n",
       "      <th>Age</th>\n",
       "      <th>SibSp</th>\n",
       "      <th>Parch</th>\n",
       "      <th>Ticket</th>\n",
       "      <th>Fare</th>\n",
       "      <th>Embarked</th>\n",
       "    </tr>\n",
       "  </thead>\n",
       "  <tbody>\n",
       "    <tr>\n",
       "      <th>761</th>\n",
       "      <td>762</td>\n",
       "      <td>0</td>\n",
       "      <td>3</td>\n",
       "      <td>Nirva, Mr. Iisakki Antino Aijo</td>\n",
       "      <td>male</td>\n",
       "      <td>41.0</td>\n",
       "      <td>0</td>\n",
       "      <td>0</td>\n",
       "      <td>SOTON/O2 3101272</td>\n",
       "      <td>0</td>\n",
       "      <td>S</td>\n",
       "    </tr>\n",
       "    <tr>\n",
       "      <th>200</th>\n",
       "      <td>201</td>\n",
       "      <td>0</td>\n",
       "      <td>3</td>\n",
       "      <td>Vande Walle, Mr. Nestor Cyriel</td>\n",
       "      <td>male</td>\n",
       "      <td>28.0</td>\n",
       "      <td>0</td>\n",
       "      <td>0</td>\n",
       "      <td>345770</td>\n",
       "      <td>1</td>\n",
       "      <td>S</td>\n",
       "    </tr>\n",
       "    <tr>\n",
       "      <th>493</th>\n",
       "      <td>494</td>\n",
       "      <td>0</td>\n",
       "      <td>1</td>\n",
       "      <td>Artagaveytia, Mr. Ramon</td>\n",
       "      <td>male</td>\n",
       "      <td>71.0</td>\n",
       "      <td>0</td>\n",
       "      <td>0</td>\n",
       "      <td>PC 17609</td>\n",
       "      <td>3</td>\n",
       "      <td>C</td>\n",
       "    </tr>\n",
       "    <tr>\n",
       "      <th>501</th>\n",
       "      <td>502</td>\n",
       "      <td>0</td>\n",
       "      <td>3</td>\n",
       "      <td>Canavan, Miss. Mary</td>\n",
       "      <td>female</td>\n",
       "      <td>21.0</td>\n",
       "      <td>0</td>\n",
       "      <td>0</td>\n",
       "      <td>364846</td>\n",
       "      <td>0</td>\n",
       "      <td>Q</td>\n",
       "    </tr>\n",
       "    <tr>\n",
       "      <th>587</th>\n",
       "      <td>588</td>\n",
       "      <td>1</td>\n",
       "      <td>1</td>\n",
       "      <td>Frolicher-Stehli, Mr. Maxmillian</td>\n",
       "      <td>male</td>\n",
       "      <td>60.0</td>\n",
       "      <td>1</td>\n",
       "      <td>1</td>\n",
       "      <td>13567</td>\n",
       "      <td>3</td>\n",
       "      <td>C</td>\n",
       "    </tr>\n",
       "    <tr>\n",
       "      <th>400</th>\n",
       "      <td>401</td>\n",
       "      <td>1</td>\n",
       "      <td>3</td>\n",
       "      <td>Niskanen, Mr. Juha</td>\n",
       "      <td>male</td>\n",
       "      <td>39.0</td>\n",
       "      <td>0</td>\n",
       "      <td>0</td>\n",
       "      <td>STON/O 2. 3101289</td>\n",
       "      <td>1</td>\n",
       "      <td>S</td>\n",
       "    </tr>\n",
       "    <tr>\n",
       "      <th>784</th>\n",
       "      <td>785</td>\n",
       "      <td>0</td>\n",
       "      <td>3</td>\n",
       "      <td>Ali, Mr. William</td>\n",
       "      <td>male</td>\n",
       "      <td>25.0</td>\n",
       "      <td>0</td>\n",
       "      <td>0</td>\n",
       "      <td>SOTON/O.Q. 3101312</td>\n",
       "      <td>0</td>\n",
       "      <td>S</td>\n",
       "    </tr>\n",
       "    <tr>\n",
       "      <th>88</th>\n",
       "      <td>89</td>\n",
       "      <td>1</td>\n",
       "      <td>1</td>\n",
       "      <td>Fortune, Miss. Mabel Helen</td>\n",
       "      <td>female</td>\n",
       "      <td>23.0</td>\n",
       "      <td>3</td>\n",
       "      <td>2</td>\n",
       "      <td>19950</td>\n",
       "      <td>3</td>\n",
       "      <td>S</td>\n",
       "    </tr>\n",
       "    <tr>\n",
       "      <th>660</th>\n",
       "      <td>661</td>\n",
       "      <td>1</td>\n",
       "      <td>1</td>\n",
       "      <td>Frauenthal, Dr. Henry William</td>\n",
       "      <td>male</td>\n",
       "      <td>50.0</td>\n",
       "      <td>2</td>\n",
       "      <td>0</td>\n",
       "      <td>PC 17611</td>\n",
       "      <td>3</td>\n",
       "      <td>S</td>\n",
       "    </tr>\n",
       "    <tr>\n",
       "      <th>809</th>\n",
       "      <td>810</td>\n",
       "      <td>1</td>\n",
       "      <td>1</td>\n",
       "      <td>Chambers, Mrs. Norman Campbell (Bertha Griggs)</td>\n",
       "      <td>female</td>\n",
       "      <td>33.0</td>\n",
       "      <td>1</td>\n",
       "      <td>0</td>\n",
       "      <td>113806</td>\n",
       "      <td>3</td>\n",
       "      <td>S</td>\n",
       "    </tr>\n",
       "  </tbody>\n",
       "</table>\n",
       "</div>"
      ],
      "text/plain": [
       "     PassengerId  Survived  Pclass  \\\n",
       "761          762         0       3   \n",
       "200          201         0       3   \n",
       "493          494         0       1   \n",
       "501          502         0       3   \n",
       "587          588         1       1   \n",
       "400          401         1       3   \n",
       "784          785         0       3   \n",
       "88            89         1       1   \n",
       "660          661         1       1   \n",
       "809          810         1       1   \n",
       "\n",
       "                                               Name     Sex   Age  SibSp  \\\n",
       "761                  Nirva, Mr. Iisakki Antino Aijo    male  41.0      0   \n",
       "200                  Vande Walle, Mr. Nestor Cyriel    male  28.0      0   \n",
       "493                         Artagaveytia, Mr. Ramon    male  71.0      0   \n",
       "501                             Canavan, Miss. Mary  female  21.0      0   \n",
       "587                Frolicher-Stehli, Mr. Maxmillian    male  60.0      1   \n",
       "400                              Niskanen, Mr. Juha    male  39.0      0   \n",
       "784                                Ali, Mr. William    male  25.0      0   \n",
       "88                       Fortune, Miss. Mabel Helen  female  23.0      3   \n",
       "660                   Frauenthal, Dr. Henry William    male  50.0      2   \n",
       "809  Chambers, Mrs. Norman Campbell (Bertha Griggs)  female  33.0      1   \n",
       "\n",
       "     Parch              Ticket  Fare Embarked  \n",
       "761      0    SOTON/O2 3101272     0        S  \n",
       "200      0              345770     1        S  \n",
       "493      0            PC 17609     3        C  \n",
       "501      0              364846     0        Q  \n",
       "587      1               13567     3        C  \n",
       "400      0   STON/O 2. 3101289     1        S  \n",
       "784      0  SOTON/O.Q. 3101312     0        S  \n",
       "88       2               19950     3        S  \n",
       "660      0            PC 17611     3        S  \n",
       "809      0              113806     3        S  "
      ]
     },
     "execution_count": 62,
     "metadata": {},
     "output_type": "execute_result"
    }
   ],
   "source": [
    "train_clean = train_try \n",
    "train_clean.sample(10)"
   ]
  },
  {
   "cell_type": "markdown",
   "metadata": {
    "_uuid": "8fa363579cb3ee1405493b0db64f5cdb05c1a56e"
   },
   "source": [
    "## <font color='purple'>Great! So now we have changed the Fare variable into  a categorical variable. Below are the category delineations </text>\n",
    "\n",
    "* For fare value greater than 7.91, the class is 0.\n",
    "* For fare values between 7.91 and 14.454, the class is 1.\n",
    "* For fare values between 14.454 and 31, the class is 2.\n",
    "* For fare values greater than 31, the class is 3.\n"
   ]
  },
  {
   "cell_type": "code",
   "execution_count": 65,
   "metadata": {
    "_uuid": "4e5e3a422e3e8a041511be7239781851024747b3"
   },
   "outputs": [
    {
     "data": {
      "text/html": [
       "<div>\n",
       "<style>\n",
       "    .dataframe thead tr:only-child th {\n",
       "        text-align: right;\n",
       "    }\n",
       "\n",
       "    .dataframe thead th {\n",
       "        text-align: left;\n",
       "    }\n",
       "\n",
       "    .dataframe tbody tr th {\n",
       "        vertical-align: top;\n",
       "    }\n",
       "</style>\n",
       "<table border=\"1\" class=\"dataframe\">\n",
       "  <thead>\n",
       "    <tr style=\"text-align: right;\">\n",
       "      <th></th>\n",
       "      <th>PassengerId</th>\n",
       "      <th>Survived</th>\n",
       "      <th>Pclass</th>\n",
       "      <th>Name</th>\n",
       "      <th>Sex</th>\n",
       "      <th>Age</th>\n",
       "      <th>SibSp</th>\n",
       "      <th>Parch</th>\n",
       "      <th>Ticket</th>\n",
       "      <th>Fare</th>\n",
       "      <th>Embarked</th>\n",
       "    </tr>\n",
       "  </thead>\n",
       "  <tbody>\n",
       "    <tr>\n",
       "      <th>189</th>\n",
       "      <td>190</td>\n",
       "      <td>0</td>\n",
       "      <td>3</td>\n",
       "      <td>Turcin, Mr. Stjepan</td>\n",
       "      <td>male</td>\n",
       "      <td>36.000000</td>\n",
       "      <td>0</td>\n",
       "      <td>0</td>\n",
       "      <td>349247</td>\n",
       "      <td>0</td>\n",
       "      <td>S</td>\n",
       "    </tr>\n",
       "    <tr>\n",
       "      <th>863</th>\n",
       "      <td>864</td>\n",
       "      <td>0</td>\n",
       "      <td>3</td>\n",
       "      <td>Sage, Miss. Dorothy Edith \"Dolly\"</td>\n",
       "      <td>female</td>\n",
       "      <td>29.699118</td>\n",
       "      <td>8</td>\n",
       "      <td>2</td>\n",
       "      <td>CA. 2343</td>\n",
       "      <td>3</td>\n",
       "      <td>S</td>\n",
       "    </tr>\n",
       "    <tr>\n",
       "      <th>527</th>\n",
       "      <td>528</td>\n",
       "      <td>0</td>\n",
       "      <td>1</td>\n",
       "      <td>Farthing, Mr. John</td>\n",
       "      <td>male</td>\n",
       "      <td>29.699118</td>\n",
       "      <td>0</td>\n",
       "      <td>0</td>\n",
       "      <td>PC 17483</td>\n",
       "      <td>3</td>\n",
       "      <td>S</td>\n",
       "    </tr>\n",
       "    <tr>\n",
       "      <th>390</th>\n",
       "      <td>391</td>\n",
       "      <td>1</td>\n",
       "      <td>1</td>\n",
       "      <td>Carter, Mr. William Ernest</td>\n",
       "      <td>male</td>\n",
       "      <td>36.000000</td>\n",
       "      <td>1</td>\n",
       "      <td>2</td>\n",
       "      <td>113760</td>\n",
       "      <td>3</td>\n",
       "      <td>S</td>\n",
       "    </tr>\n",
       "    <tr>\n",
       "      <th>478</th>\n",
       "      <td>479</td>\n",
       "      <td>0</td>\n",
       "      <td>3</td>\n",
       "      <td>Karlsson, Mr. Nils August</td>\n",
       "      <td>male</td>\n",
       "      <td>22.000000</td>\n",
       "      <td>0</td>\n",
       "      <td>0</td>\n",
       "      <td>350060</td>\n",
       "      <td>0</td>\n",
       "      <td>S</td>\n",
       "    </tr>\n",
       "    <tr>\n",
       "      <th>136</th>\n",
       "      <td>137</td>\n",
       "      <td>1</td>\n",
       "      <td>1</td>\n",
       "      <td>Newsom, Miss. Helen Monypeny</td>\n",
       "      <td>female</td>\n",
       "      <td>19.000000</td>\n",
       "      <td>0</td>\n",
       "      <td>2</td>\n",
       "      <td>11752</td>\n",
       "      <td>2</td>\n",
       "      <td>S</td>\n",
       "    </tr>\n",
       "    <tr>\n",
       "      <th>573</th>\n",
       "      <td>574</td>\n",
       "      <td>1</td>\n",
       "      <td>3</td>\n",
       "      <td>Kelly, Miss. Mary</td>\n",
       "      <td>female</td>\n",
       "      <td>29.699118</td>\n",
       "      <td>0</td>\n",
       "      <td>0</td>\n",
       "      <td>14312</td>\n",
       "      <td>0</td>\n",
       "      <td>Q</td>\n",
       "    </tr>\n",
       "    <tr>\n",
       "      <th>14</th>\n",
       "      <td>15</td>\n",
       "      <td>0</td>\n",
       "      <td>3</td>\n",
       "      <td>Vestrom, Miss. Hulda Amanda Adolfina</td>\n",
       "      <td>female</td>\n",
       "      <td>14.000000</td>\n",
       "      <td>0</td>\n",
       "      <td>0</td>\n",
       "      <td>350406</td>\n",
       "      <td>0</td>\n",
       "      <td>S</td>\n",
       "    </tr>\n",
       "    <tr>\n",
       "      <th>629</th>\n",
       "      <td>630</td>\n",
       "      <td>0</td>\n",
       "      <td>3</td>\n",
       "      <td>O'Connell, Mr. Patrick D</td>\n",
       "      <td>male</td>\n",
       "      <td>29.699118</td>\n",
       "      <td>0</td>\n",
       "      <td>0</td>\n",
       "      <td>334912</td>\n",
       "      <td>0</td>\n",
       "      <td>Q</td>\n",
       "    </tr>\n",
       "    <tr>\n",
       "      <th>759</th>\n",
       "      <td>760</td>\n",
       "      <td>1</td>\n",
       "      <td>1</td>\n",
       "      <td>Rothes, the Countess. of (Lucy Noel Martha Dye...</td>\n",
       "      <td>female</td>\n",
       "      <td>33.000000</td>\n",
       "      <td>0</td>\n",
       "      <td>0</td>\n",
       "      <td>110152</td>\n",
       "      <td>3</td>\n",
       "      <td>S</td>\n",
       "    </tr>\n",
       "  </tbody>\n",
       "</table>\n",
       "</div>"
      ],
      "text/plain": [
       "     PassengerId  Survived  Pclass  \\\n",
       "189          190         0       3   \n",
       "863          864         0       3   \n",
       "527          528         0       1   \n",
       "390          391         1       1   \n",
       "478          479         0       3   \n",
       "136          137         1       1   \n",
       "573          574         1       3   \n",
       "14            15         0       3   \n",
       "629          630         0       3   \n",
       "759          760         1       1   \n",
       "\n",
       "                                                  Name     Sex        Age  \\\n",
       "189                                Turcin, Mr. Stjepan    male  36.000000   \n",
       "863                  Sage, Miss. Dorothy Edith \"Dolly\"  female  29.699118   \n",
       "527                                 Farthing, Mr. John    male  29.699118   \n",
       "390                         Carter, Mr. William Ernest    male  36.000000   \n",
       "478                          Karlsson, Mr. Nils August    male  22.000000   \n",
       "136                       Newsom, Miss. Helen Monypeny  female  19.000000   \n",
       "573                                  Kelly, Miss. Mary  female  29.699118   \n",
       "14                Vestrom, Miss. Hulda Amanda Adolfina  female  14.000000   \n",
       "629                           O'Connell, Mr. Patrick D    male  29.699118   \n",
       "759  Rothes, the Countess. of (Lucy Noel Martha Dye...  female  33.000000   \n",
       "\n",
       "     SibSp  Parch    Ticket  Fare Embarked  \n",
       "189      0      0    349247     0        S  \n",
       "863      8      2  CA. 2343     3        S  \n",
       "527      0      0  PC 17483     3        S  \n",
       "390      1      2    113760     3        S  \n",
       "478      0      0    350060     0        S  \n",
       "136      0      2     11752     2        S  \n",
       "573      0      0     14312     0        Q  \n",
       "14       0      0    350406     0        S  \n",
       "629      0      0    334912     0        Q  \n",
       "759      0      0    110152     3        S  "
      ]
     },
     "execution_count": 65,
     "metadata": {},
     "output_type": "execute_result"
    }
   ],
   "source": [
    "train_clean.sample(10)"
   ]
  },
  {
   "cell_type": "markdown",
   "metadata": {
    "_uuid": "5429fef850b4cad47935dca4482277afb053815b"
   },
   "source": [
    "## <font color = 'purple'>The test data has also had its Fare values converted into categories instead of a range of numbers.</font>"
   ]
  },
  {
   "cell_type": "code",
   "execution_count": 66,
   "metadata": {
    "_uuid": "5758fb6709e96115a5c71b51682160a8e7c18dda",
    "collapsed": true
   },
   "outputs": [],
   "source": [
    "test_clean = test_try \n"
   ]
  },
  {
   "cell_type": "code",
   "execution_count": 67,
   "metadata": {
    "_uuid": "2476ee9ce7732c2a3388352e47ddd86bda8b7d44"
   },
   "outputs": [
    {
     "data": {
      "text/html": [
       "<div>\n",
       "<style>\n",
       "    .dataframe thead tr:only-child th {\n",
       "        text-align: right;\n",
       "    }\n",
       "\n",
       "    .dataframe thead th {\n",
       "        text-align: left;\n",
       "    }\n",
       "\n",
       "    .dataframe tbody tr th {\n",
       "        vertical-align: top;\n",
       "    }\n",
       "</style>\n",
       "<table border=\"1\" class=\"dataframe\">\n",
       "  <thead>\n",
       "    <tr style=\"text-align: right;\">\n",
       "      <th></th>\n",
       "      <th>PassengerId</th>\n",
       "      <th>Pclass</th>\n",
       "      <th>Name</th>\n",
       "      <th>Sex</th>\n",
       "      <th>Age</th>\n",
       "      <th>SibSp</th>\n",
       "      <th>Parch</th>\n",
       "      <th>Ticket</th>\n",
       "      <th>Fare</th>\n",
       "      <th>Embarked</th>\n",
       "    </tr>\n",
       "  </thead>\n",
       "  <tbody>\n",
       "    <tr>\n",
       "      <th>210</th>\n",
       "      <td>1102</td>\n",
       "      <td>3</td>\n",
       "      <td>Andersen, Mr. Albert Karvin</td>\n",
       "      <td>male</td>\n",
       "      <td>32.0</td>\n",
       "      <td>0</td>\n",
       "      <td>0</td>\n",
       "      <td>C 4001</td>\n",
       "      <td>2</td>\n",
       "      <td>S</td>\n",
       "    </tr>\n",
       "    <tr>\n",
       "      <th>78</th>\n",
       "      <td>970</td>\n",
       "      <td>2</td>\n",
       "      <td>Aldworth, Mr. Charles Augustus</td>\n",
       "      <td>male</td>\n",
       "      <td>30.0</td>\n",
       "      <td>0</td>\n",
       "      <td>0</td>\n",
       "      <td>248744</td>\n",
       "      <td>1</td>\n",
       "      <td>S</td>\n",
       "    </tr>\n",
       "    <tr>\n",
       "      <th>310</th>\n",
       "      <td>1202</td>\n",
       "      <td>3</td>\n",
       "      <td>Cacic, Mr. Jego Grga</td>\n",
       "      <td>male</td>\n",
       "      <td>18.0</td>\n",
       "      <td>0</td>\n",
       "      <td>0</td>\n",
       "      <td>315091</td>\n",
       "      <td>1</td>\n",
       "      <td>S</td>\n",
       "    </tr>\n",
       "    <tr>\n",
       "      <th>302</th>\n",
       "      <td>1194</td>\n",
       "      <td>2</td>\n",
       "      <td>Phillips, Mr. Escott Robert</td>\n",
       "      <td>male</td>\n",
       "      <td>43.0</td>\n",
       "      <td>0</td>\n",
       "      <td>1</td>\n",
       "      <td>S.O./P.P. 2</td>\n",
       "      <td>2</td>\n",
       "      <td>S</td>\n",
       "    </tr>\n",
       "    <tr>\n",
       "      <th>328</th>\n",
       "      <td>1220</td>\n",
       "      <td>2</td>\n",
       "      <td>Clarke, Mr. Charles Valentine</td>\n",
       "      <td>male</td>\n",
       "      <td>29.0</td>\n",
       "      <td>1</td>\n",
       "      <td>0</td>\n",
       "      <td>2003</td>\n",
       "      <td>2</td>\n",
       "      <td>S</td>\n",
       "    </tr>\n",
       "    <tr>\n",
       "      <th>319</th>\n",
       "      <td>1211</td>\n",
       "      <td>2</td>\n",
       "      <td>Jefferys, Mr. Ernest Wilfred</td>\n",
       "      <td>male</td>\n",
       "      <td>22.0</td>\n",
       "      <td>2</td>\n",
       "      <td>0</td>\n",
       "      <td>C.A. 31029</td>\n",
       "      <td>3</td>\n",
       "      <td>S</td>\n",
       "    </tr>\n",
       "    <tr>\n",
       "      <th>353</th>\n",
       "      <td>1245</td>\n",
       "      <td>2</td>\n",
       "      <td>Herman, Mr. Samuel</td>\n",
       "      <td>male</td>\n",
       "      <td>49.0</td>\n",
       "      <td>1</td>\n",
       "      <td>2</td>\n",
       "      <td>220845</td>\n",
       "      <td>3</td>\n",
       "      <td>S</td>\n",
       "    </tr>\n",
       "    <tr>\n",
       "      <th>321</th>\n",
       "      <td>1213</td>\n",
       "      <td>3</td>\n",
       "      <td>Krekorian, Mr. Neshan</td>\n",
       "      <td>male</td>\n",
       "      <td>25.0</td>\n",
       "      <td>0</td>\n",
       "      <td>0</td>\n",
       "      <td>2654</td>\n",
       "      <td>0</td>\n",
       "      <td>C</td>\n",
       "    </tr>\n",
       "    <tr>\n",
       "      <th>162</th>\n",
       "      <td>1054</td>\n",
       "      <td>2</td>\n",
       "      <td>Wright, Miss. Marion</td>\n",
       "      <td>female</td>\n",
       "      <td>26.0</td>\n",
       "      <td>0</td>\n",
       "      <td>0</td>\n",
       "      <td>220844</td>\n",
       "      <td>1</td>\n",
       "      <td>S</td>\n",
       "    </tr>\n",
       "    <tr>\n",
       "      <th>364</th>\n",
       "      <td>1256</td>\n",
       "      <td>1</td>\n",
       "      <td>Harder, Mrs. George Achilles (Dorothy Annan)</td>\n",
       "      <td>female</td>\n",
       "      <td>25.0</td>\n",
       "      <td>1</td>\n",
       "      <td>0</td>\n",
       "      <td>11765</td>\n",
       "      <td>3</td>\n",
       "      <td>C</td>\n",
       "    </tr>\n",
       "  </tbody>\n",
       "</table>\n",
       "</div>"
      ],
      "text/plain": [
       "     PassengerId  Pclass                                          Name  \\\n",
       "210         1102       3                   Andersen, Mr. Albert Karvin   \n",
       "78           970       2                Aldworth, Mr. Charles Augustus   \n",
       "310         1202       3                          Cacic, Mr. Jego Grga   \n",
       "302         1194       2                   Phillips, Mr. Escott Robert   \n",
       "328         1220       2                 Clarke, Mr. Charles Valentine   \n",
       "319         1211       2                  Jefferys, Mr. Ernest Wilfred   \n",
       "353         1245       2                            Herman, Mr. Samuel   \n",
       "321         1213       3                         Krekorian, Mr. Neshan   \n",
       "162         1054       2                          Wright, Miss. Marion   \n",
       "364         1256       1  Harder, Mrs. George Achilles (Dorothy Annan)   \n",
       "\n",
       "        Sex   Age  SibSp  Parch       Ticket  Fare Embarked  \n",
       "210    male  32.0      0      0       C 4001     2        S  \n",
       "78     male  30.0      0      0       248744     1        S  \n",
       "310    male  18.0      0      0       315091     1        S  \n",
       "302    male  43.0      0      1  S.O./P.P. 2     2        S  \n",
       "328    male  29.0      1      0         2003     2        S  \n",
       "319    male  22.0      2      0   C.A. 31029     3        S  \n",
       "353    male  49.0      1      2       220845     3        S  \n",
       "321    male  25.0      0      0         2654     0        C  \n",
       "162  female  26.0      0      0       220844     1        S  \n",
       "364  female  25.0      1      0        11765     3        C  "
      ]
     },
     "execution_count": 67,
     "metadata": {},
     "output_type": "execute_result"
    }
   ],
   "source": [
    "test_clean.sample(10)"
   ]
  },
  {
   "cell_type": "markdown",
   "metadata": {
    "_uuid": "b40bded83274c342437382cba50a40a0fe681edc"
   },
   "source": [
    "# <font color ='purple'> LET'S DO SOME CORRELATION TESTING </font>\n",
    "\n",
    "## <font color ='green'>Since our main question revolves around whether people survived or not, the correlations will be considered with regards to their relation to the Survived column.\n",
    "    \n",
    "  <font color='red'>**OBSERVATIONS**  </font>\n",
    "  \n",
    "\n",
    "\n",
    "* Obviously Survived has the strongest correlation with itself.\n",
    "* The correlation values can be anywhere from -1 to 1. \n",
    "* The magnitude of the correlation tells us of how strongly the variables are related.\n",
    "* A negative sign implies inverse relationship.\n",
    "* **Based on the following results, the strongest relationship that 'Survived' has is with Pclass**\n",
    "\n",
    "**These variables share the strongest correlation with Survived.**\n",
    "\n",
    "*  PClass = -0.335549\n",
    "*  Fare     =   0.295875\n",
    "* Parch    =   0.083151\n",
    "\n",
    "Since Survived is so strongly defined by Pclass, let's explore that. .\n",
    "\n",
    "\n",
    "\n",
    "  \n",
    "  **Correction: I saw that Sex wasn't included in the correlation, so I looked and had to encode into numerical data from its categorical origins**\n",
    " * Sex = 0.541585\n",
    "## <font color='Red'>I will be using the above mentioned Four variables to construct a machine learning model</font>\n"
   ]
  },
  {
   "cell_type": "code",
   "execution_count": 69,
   "metadata": {
    "_uuid": "36dab666cc5f8b4178ef7d748341b1f7564a8095"
   },
   "outputs": [
    {
     "data": {
      "text/plain": [
       "PassengerId   -0.005028\n",
       "Survived       1.000000\n",
       "Pclass        -0.335549\n",
       "Age           -0.074673\n",
       "SibSp         -0.034040\n",
       "Parch          0.083151\n",
       "Fare           0.293182\n",
       "Name: Survived, dtype: float64"
      ]
     },
     "execution_count": 69,
     "metadata": {},
     "output_type": "execute_result"
    }
   ],
   "source": [
    "pd.DataFrame(train_clean.corr()['Survived']).reset_index()\n",
    "train_clean.corr()['Survived']"
   ]
  },
  {
   "cell_type": "code",
   "execution_count": 73,
   "metadata": {
    "_uuid": "ded59a652a2a22037da35513db889de52cfb2532"
   },
   "outputs": [
    {
     "data": {
      "image/png": "[encoded data removed]",
      "text/plain": [
       "<Figure size 432x288 with 2 Axes>"
      ]
     },
     "metadata": {},
     "output_type": "display_data"
    }
   ],
   "source": [
    "sns.heatmap(train_clean.corr(),cmap='RdYlGn')\n",
    "fig = plt.gcf()\n",
    "plt.show()"
   ]
  },
  {
   "cell_type": "markdown",
   "metadata": {
    "_uuid": "c47316fa6b20135b67d8f7bf506705a056a93e0e"
   },
   "source": [
    "## <font color ='Mauve'>Now you might notice that Sex, Ticket and Embarked are missing from the correlation table printed above. That is because they are all categorical values. Correlation is based on the idea of how one variable changes in regards to change in another variables. What happens to variables *a* when variable *b* increases or decreases. Since Sex, Ticket and Embarked not numerical values, we can't generate this correlation.</font>\n",
    "\n",
    "# So we will have to convert them into categorical values.\n",
    "**In this case, the categories wouuld be as follows:**\n",
    "* 1= Female\n",
    "* 0= Male"
   ]
  },
  {
   "cell_type": "code",
   "execution_count": 70,
   "metadata": {
    "_uuid": "0bce872697fbfb815c02701b1aab4f044bb918cd",
    "collapsed": true,
    "scrolled": true
   },
   "outputs": [],
   "source": [
    "train_clean['Sex'] =  train_clean['Sex'].map( {'female': 1, 'male': 0} ).astype(int)\n",
    "test_clean['Sex'] = test_clean['Sex'].map( {'female': 1, 'male': 0} ).astype(int)"
   ]
  },
  {
   "cell_type": "code",
   "execution_count": 71,
   "metadata": {
    "_uuid": "94783b5e2d017947afa77def28b816e1c1025145",
    "scrolled": true
   },
   "outputs": [
    {
     "data": {
      "text/html": [
       "<div>\n",
       "<style>\n",
       "    .dataframe thead tr:only-child th {\n",
       "        text-align: right;\n",
       "    }\n",
       "\n",
       "    .dataframe thead th {\n",
       "        text-align: left;\n",
       "    }\n",
       "\n",
       "    .dataframe tbody tr th {\n",
       "        vertical-align: top;\n",
       "    }\n",
       "</style>\n",
       "<table border=\"1\" class=\"dataframe\">\n",
       "  <thead>\n",
       "    <tr style=\"text-align: right;\">\n",
       "      <th></th>\n",
       "      <th>PassengerId</th>\n",
       "      <th>Pclass</th>\n",
       "      <th>Name</th>\n",
       "      <th>Sex</th>\n",
       "      <th>Age</th>\n",
       "      <th>SibSp</th>\n",
       "      <th>Parch</th>\n",
       "      <th>Ticket</th>\n",
       "      <th>Fare</th>\n",
       "      <th>Embarked</th>\n",
       "    </tr>\n",
       "  </thead>\n",
       "  <tbody>\n",
       "    <tr>\n",
       "      <th>238</th>\n",
       "      <td>1130</td>\n",
       "      <td>2</td>\n",
       "      <td>Hiltunen, Miss. Marta</td>\n",
       "      <td>1</td>\n",
       "      <td>18.0</td>\n",
       "      <td>1</td>\n",
       "      <td>1</td>\n",
       "      <td>250650</td>\n",
       "      <td>1</td>\n",
       "      <td>S</td>\n",
       "    </tr>\n",
       "    <tr>\n",
       "      <th>78</th>\n",
       "      <td>970</td>\n",
       "      <td>2</td>\n",
       "      <td>Aldworth, Mr. Charles Augustus</td>\n",
       "      <td>0</td>\n",
       "      <td>30.0</td>\n",
       "      <td>0</td>\n",
       "      <td>0</td>\n",
       "      <td>248744</td>\n",
       "      <td>1</td>\n",
       "      <td>S</td>\n",
       "    </tr>\n",
       "    <tr>\n",
       "      <th>340</th>\n",
       "      <td>1232</td>\n",
       "      <td>2</td>\n",
       "      <td>Fillbrook, Mr. Joseph Charles</td>\n",
       "      <td>0</td>\n",
       "      <td>18.0</td>\n",
       "      <td>0</td>\n",
       "      <td>0</td>\n",
       "      <td>C.A. 15185</td>\n",
       "      <td>1</td>\n",
       "      <td>S</td>\n",
       "    </tr>\n",
       "    <tr>\n",
       "      <th>381</th>\n",
       "      <td>1273</td>\n",
       "      <td>3</td>\n",
       "      <td>Foley, Mr. Joseph</td>\n",
       "      <td>0</td>\n",
       "      <td>26.0</td>\n",
       "      <td>0</td>\n",
       "      <td>0</td>\n",
       "      <td>330910</td>\n",
       "      <td>0</td>\n",
       "      <td>Q</td>\n",
       "    </tr>\n",
       "    <tr>\n",
       "      <th>92</th>\n",
       "      <td>984</td>\n",
       "      <td>1</td>\n",
       "      <td>Davidson, Mrs. Thornton (Orian Hays)</td>\n",
       "      <td>1</td>\n",
       "      <td>27.0</td>\n",
       "      <td>1</td>\n",
       "      <td>2</td>\n",
       "      <td>F.C. 12750</td>\n",
       "      <td>3</td>\n",
       "      <td>S</td>\n",
       "    </tr>\n",
       "  </tbody>\n",
       "</table>\n",
       "</div>"
      ],
      "text/plain": [
       "     PassengerId  Pclass                                  Name  Sex   Age  \\\n",
       "238         1130       2                 Hiltunen, Miss. Marta    1  18.0   \n",
       "78           970       2        Aldworth, Mr. Charles Augustus    0  30.0   \n",
       "340         1232       2         Fillbrook, Mr. Joseph Charles    0  18.0   \n",
       "381         1273       3                     Foley, Mr. Joseph    0  26.0   \n",
       "92           984       1  Davidson, Mrs. Thornton (Orian Hays)    1  27.0   \n",
       "\n",
       "     SibSp  Parch      Ticket  Fare Embarked  \n",
       "238      1      1      250650     1        S  \n",
       "78       0      0      248744     1        S  \n",
       "340      0      0  C.A. 15185     1        S  \n",
       "381      0      0      330910     0        Q  \n",
       "92       1      2  F.C. 12750     3        S  "
      ]
     },
     "execution_count": 71,
     "metadata": {},
     "output_type": "execute_result"
    }
   ],
   "source": [
    "test_clean.sample(5)\n",
    "# train_clean.sample(5)"
   ]
  },
  {
   "cell_type": "code",
   "execution_count": 74,
   "metadata": {
    "_uuid": "de6f313081ebec4a33dc0aac93febbebffec580e"
   },
   "outputs": [
    {
     "data": {
      "text/html": [
       "<div>\n",
       "<style>\n",
       "    .dataframe thead tr:only-child th {\n",
       "        text-align: right;\n",
       "    }\n",
       "\n",
       "    .dataframe thead th {\n",
       "        text-align: left;\n",
       "    }\n",
       "\n",
       "    .dataframe tbody tr th {\n",
       "        vertical-align: top;\n",
       "    }\n",
       "</style>\n",
       "<table border=\"1\" class=\"dataframe\">\n",
       "  <thead>\n",
       "    <tr style=\"text-align: right;\">\n",
       "      <th></th>\n",
       "      <th>PassengerId</th>\n",
       "      <th>Survived</th>\n",
       "      <th>Pclass</th>\n",
       "      <th>Name</th>\n",
       "      <th>Sex</th>\n",
       "      <th>Age</th>\n",
       "      <th>SibSp</th>\n",
       "      <th>Parch</th>\n",
       "      <th>Ticket</th>\n",
       "      <th>Fare</th>\n",
       "      <th>Embarked</th>\n",
       "    </tr>\n",
       "  </thead>\n",
       "  <tbody>\n",
       "    <tr>\n",
       "      <th>550</th>\n",
       "      <td>551</td>\n",
       "      <td>1</td>\n",
       "      <td>1</td>\n",
       "      <td>Thayer, Mr. John Borland Jr</td>\n",
       "      <td>0</td>\n",
       "      <td>17.000000</td>\n",
       "      <td>0</td>\n",
       "      <td>2</td>\n",
       "      <td>17421</td>\n",
       "      <td>3</td>\n",
       "      <td>C</td>\n",
       "    </tr>\n",
       "    <tr>\n",
       "      <th>826</th>\n",
       "      <td>827</td>\n",
       "      <td>0</td>\n",
       "      <td>3</td>\n",
       "      <td>Lam, Mr. Len</td>\n",
       "      <td>0</td>\n",
       "      <td>29.699118</td>\n",
       "      <td>0</td>\n",
       "      <td>0</td>\n",
       "      <td>1601</td>\n",
       "      <td>3</td>\n",
       "      <td>S</td>\n",
       "    </tr>\n",
       "    <tr>\n",
       "      <th>122</th>\n",
       "      <td>123</td>\n",
       "      <td>0</td>\n",
       "      <td>2</td>\n",
       "      <td>Nasser, Mr. Nicholas</td>\n",
       "      <td>0</td>\n",
       "      <td>32.500000</td>\n",
       "      <td>1</td>\n",
       "      <td>0</td>\n",
       "      <td>237736</td>\n",
       "      <td>2</td>\n",
       "      <td>C</td>\n",
       "    </tr>\n",
       "    <tr>\n",
       "      <th>467</th>\n",
       "      <td>468</td>\n",
       "      <td>0</td>\n",
       "      <td>1</td>\n",
       "      <td>Smart, Mr. John Montgomery</td>\n",
       "      <td>0</td>\n",
       "      <td>56.000000</td>\n",
       "      <td>0</td>\n",
       "      <td>0</td>\n",
       "      <td>113792</td>\n",
       "      <td>2</td>\n",
       "      <td>S</td>\n",
       "    </tr>\n",
       "    <tr>\n",
       "      <th>770</th>\n",
       "      <td>771</td>\n",
       "      <td>0</td>\n",
       "      <td>3</td>\n",
       "      <td>Lievens, Mr. Rene Aime</td>\n",
       "      <td>0</td>\n",
       "      <td>24.000000</td>\n",
       "      <td>0</td>\n",
       "      <td>0</td>\n",
       "      <td>345781</td>\n",
       "      <td>1</td>\n",
       "      <td>S</td>\n",
       "    </tr>\n",
       "    <tr>\n",
       "      <th>400</th>\n",
       "      <td>401</td>\n",
       "      <td>1</td>\n",
       "      <td>3</td>\n",
       "      <td>Niskanen, Mr. Juha</td>\n",
       "      <td>0</td>\n",
       "      <td>39.000000</td>\n",
       "      <td>0</td>\n",
       "      <td>0</td>\n",
       "      <td>STON/O 2. 3101289</td>\n",
       "      <td>1</td>\n",
       "      <td>S</td>\n",
       "    </tr>\n",
       "    <tr>\n",
       "      <th>788</th>\n",
       "      <td>789</td>\n",
       "      <td>1</td>\n",
       "      <td>3</td>\n",
       "      <td>Dean, Master. Bertram Vere</td>\n",
       "      <td>0</td>\n",
       "      <td>1.000000</td>\n",
       "      <td>1</td>\n",
       "      <td>2</td>\n",
       "      <td>C.A. 2315</td>\n",
       "      <td>2</td>\n",
       "      <td>S</td>\n",
       "    </tr>\n",
       "  </tbody>\n",
       "</table>\n",
       "</div>"
      ],
      "text/plain": [
       "     PassengerId  Survived  Pclass                         Name  Sex  \\\n",
       "550          551         1       1  Thayer, Mr. John Borland Jr    0   \n",
       "826          827         0       3                 Lam, Mr. Len    0   \n",
       "122          123         0       2         Nasser, Mr. Nicholas    0   \n",
       "467          468         0       1   Smart, Mr. John Montgomery    0   \n",
       "770          771         0       3       Lievens, Mr. Rene Aime    0   \n",
       "400          401         1       3           Niskanen, Mr. Juha    0   \n",
       "788          789         1       3   Dean, Master. Bertram Vere    0   \n",
       "\n",
       "           Age  SibSp  Parch             Ticket  Fare Embarked  \n",
       "550  17.000000      0      2              17421     3        C  \n",
       "826  29.699118      0      0               1601     3        S  \n",
       "122  32.500000      1      0             237736     2        C  \n",
       "467  56.000000      0      0             113792     2        S  \n",
       "770  24.000000      0      0             345781     1        S  \n",
       "400  39.000000      0      0  STON/O 2. 3101289     1        S  \n",
       "788   1.000000      1      2          C.A. 2315     2        S  "
      ]
     },
     "execution_count": 74,
     "metadata": {},
     "output_type": "execute_result"
    }
   ],
   "source": [
    "train_clean.sample(7)\n",
    "# train_clean.corr()['Survived']"
   ]
  },
  {
   "cell_type": "markdown",
   "metadata": {
    "_uuid": "1583d65d0ec220742e292e6998b5b599cc9cd840"
   },
   "source": [
    "# <font color='Purple'> Let's make the heat map of these correlations </font>"
   ]
  },
  {
   "cell_type": "markdown",
   "metadata": {
    "_uuid": "b1905de2071c815c1fe663e94d6e9ba159a88567"
   },
   "source": [
    "# <font color = 'green'> LET'S DO SOME VISUALIZATION FOR THE TRAINING DATA </font>"
   ]
  },
  {
   "cell_type": "code",
   "execution_count": 30,
   "metadata": {
    "_uuid": "173888b8af58838de1eef98cefa1a596e8d9edfa",
    "scrolled": true
   },
   "outputs": [
    {
     "data": {
      "image/png": "[encoded data removed]",
      "text/plain": [
       "<Figure size 432x288 with 1 Axes>"
      ]
     },
     "metadata": {},
     "output_type": "display_data"
    }
   ],
   "source": [
    "# Passenger class with survived. \n",
    "class_surv = pd.DataFrame(train_clean[['Pclass','Survived']]).groupby('Pclass', as_index=False).count()\n",
    "plt.hist(class_surv['Pclass'], weights=class_surv['Survived'])\n",
    "plt.xticks(np.arange(1,3))\n",
    "plt.grid()\n",
    "plt.title('People survived based on their Passenger class')\n",
    "plt.show()"
   ]
  },
  {
   "cell_type": "markdown",
   "metadata": {
    "_uuid": "514fa39d620084b85fff4efbdc128be3d5cfbc1e"
   },
   "source": [
    "## <font color='green'> Let's take a look at the test data set and see how men fared against women </font>\n",
    "**Taking a look at the data below, we can see that  **\n",
    "\n",
    "* Women had a mean age of 28.077 years \n",
    "* Men had mean age of 30.506 years"
   ]
  },
  {
   "cell_type": "code",
   "execution_count": 31,
   "metadata": {
    "_uuid": "5685365e79a70953378ae20cefa4ade46552db61"
   },
   "outputs": [
    {
     "data": {
      "text/html": [
       "<div>\n",
       "<style>\n",
       "    .dataframe thead tr:only-child th {\n",
       "        text-align: right;\n",
       "    }\n",
       "\n",
       "    .dataframe thead th {\n",
       "        text-align: left;\n",
       "    }\n",
       "\n",
       "    .dataframe tbody tr th {\n",
       "        vertical-align: top;\n",
       "    }\n",
       "</style>\n",
       "<table border=\"1\" class=\"dataframe\">\n",
       "  <thead>\n",
       "    <tr style=\"text-align: right;\">\n",
       "      <th></th>\n",
       "      <th>Sex</th>\n",
       "      <th>Survived</th>\n",
       "    </tr>\n",
       "  </thead>\n",
       "  <tbody>\n",
       "    <tr>\n",
       "      <th>1</th>\n",
       "      <td>1</td>\n",
       "      <td>0.740385</td>\n",
       "    </tr>\n",
       "    <tr>\n",
       "      <th>0</th>\n",
       "      <td>0</td>\n",
       "      <td>0.188908</td>\n",
       "    </tr>\n",
       "  </tbody>\n",
       "</table>\n",
       "</div>"
      ],
      "text/plain": [
       "   Sex  Survived\n",
       "1    1  0.740385\n",
       "0    0  0.188908"
      ]
     },
     "execution_count": 31,
     "metadata": {},
     "output_type": "execute_result"
    }
   ],
   "source": [
    "train_clean.sample(5)\n",
    "train_clean[[\"Survived\", \"Sex\"]].groupby(['Sex'], as_index=False).count()#.mean().sort_values(by='Survived',ascending=False)\n",
    "train_clean[[\"Survived\", \"Sex\"]].groupby(['Sex'], as_index=False).mean().sort_values(by='Survived',ascending=False)\n"
   ]
  },
  {
   "cell_type": "markdown",
   "metadata": {
    "_uuid": "19f20d0da6fef7d9723be463f49125fe412359db"
   },
   "source": [
    "# <font color ='purple'> LET'S GET READY TO PREPARE THIS DATA FOR JACK </font>\n"
   ]
  },
  {
   "cell_type": "markdown",
   "metadata": {
    "_uuid": "1fc2c3144ed0e63c17f391bd1aa0adbdadf1bdf3"
   },
   "source": [
    "## <font color ='purple'> Since we saw that the 4 variables which are most strongly correlated with Survival are <font color='red'>Pclass, Fare and Parch, Sex</font> so let's construct a dataFrame to deal with that. Oh and I  am adding in age as well just because why not</font>\n",
    "\n",
    "## <font color ='red'>Below, I construct a data Frame with only the variables which I am interested in exploring further. </font>\n"
   ]
  },
  {
   "cell_type": "code",
   "execution_count": 76,
   "metadata": {
    "_uuid": "0e2b913d8d46dc37c86e9b51c3cbcee8127adc1c",
    "collapsed": true
   },
   "outputs": [],
   "source": [
    "jack_df = train_clean[[\"Pclass\",\"Sex\",\"Age\", \"Parch\",\"Fare\", \"Survived\"]]\n"
   ]
  },
  {
   "cell_type": "code",
   "execution_count": 77,
   "metadata": {
    "_uuid": "8f3782d5a122d9a93e8f5cdac4c46ea95f242191"
   },
   "outputs": [
    {
     "data": {
      "text/html": [
       "<div>\n",
       "<style>\n",
       "    .dataframe thead tr:only-child th {\n",
       "        text-align: right;\n",
       "    }\n",
       "\n",
       "    .dataframe thead th {\n",
       "        text-align: left;\n",
       "    }\n",
       "\n",
       "    .dataframe tbody tr th {\n",
       "        vertical-align: top;\n",
       "    }\n",
       "</style>\n",
       "<table border=\"1\" class=\"dataframe\">\n",
       "  <thead>\n",
       "    <tr style=\"text-align: right;\">\n",
       "      <th></th>\n",
       "      <th>Pclass</th>\n",
       "      <th>Sex</th>\n",
       "      <th>Age</th>\n",
       "      <th>Parch</th>\n",
       "      <th>Fare</th>\n",
       "      <th>Survived</th>\n",
       "    </tr>\n",
       "  </thead>\n",
       "  <tbody>\n",
       "    <tr>\n",
       "      <th>484</th>\n",
       "      <td>1</td>\n",
       "      <td>0</td>\n",
       "      <td>25.000000</td>\n",
       "      <td>0</td>\n",
       "      <td>3</td>\n",
       "      <td>1</td>\n",
       "    </tr>\n",
       "    <tr>\n",
       "      <th>83</th>\n",
       "      <td>1</td>\n",
       "      <td>0</td>\n",
       "      <td>28.000000</td>\n",
       "      <td>0</td>\n",
       "      <td>3</td>\n",
       "      <td>0</td>\n",
       "    </tr>\n",
       "    <tr>\n",
       "      <th>871</th>\n",
       "      <td>1</td>\n",
       "      <td>1</td>\n",
       "      <td>47.000000</td>\n",
       "      <td>1</td>\n",
       "      <td>3</td>\n",
       "      <td>1</td>\n",
       "    </tr>\n",
       "    <tr>\n",
       "      <th>273</th>\n",
       "      <td>1</td>\n",
       "      <td>0</td>\n",
       "      <td>37.000000</td>\n",
       "      <td>1</td>\n",
       "      <td>2</td>\n",
       "      <td>0</td>\n",
       "    </tr>\n",
       "    <tr>\n",
       "      <th>237</th>\n",
       "      <td>2</td>\n",
       "      <td>1</td>\n",
       "      <td>8.000000</td>\n",
       "      <td>2</td>\n",
       "      <td>2</td>\n",
       "      <td>1</td>\n",
       "    </tr>\n",
       "    <tr>\n",
       "      <th>216</th>\n",
       "      <td>3</td>\n",
       "      <td>1</td>\n",
       "      <td>27.000000</td>\n",
       "      <td>0</td>\n",
       "      <td>1</td>\n",
       "      <td>1</td>\n",
       "    </tr>\n",
       "    <tr>\n",
       "      <th>538</th>\n",
       "      <td>3</td>\n",
       "      <td>0</td>\n",
       "      <td>29.699118</td>\n",
       "      <td>0</td>\n",
       "      <td>2</td>\n",
       "      <td>0</td>\n",
       "    </tr>\n",
       "    <tr>\n",
       "      <th>336</th>\n",
       "      <td>1</td>\n",
       "      <td>0</td>\n",
       "      <td>29.000000</td>\n",
       "      <td>0</td>\n",
       "      <td>3</td>\n",
       "      <td>0</td>\n",
       "    </tr>\n",
       "    <tr>\n",
       "      <th>156</th>\n",
       "      <td>3</td>\n",
       "      <td>1</td>\n",
       "      <td>16.000000</td>\n",
       "      <td>0</td>\n",
       "      <td>0</td>\n",
       "      <td>1</td>\n",
       "    </tr>\n",
       "    <tr>\n",
       "      <th>442</th>\n",
       "      <td>3</td>\n",
       "      <td>0</td>\n",
       "      <td>25.000000</td>\n",
       "      <td>0</td>\n",
       "      <td>0</td>\n",
       "      <td>0</td>\n",
       "    </tr>\n",
       "  </tbody>\n",
       "</table>\n",
       "</div>"
      ],
      "text/plain": [
       "     Pclass  Sex        Age  Parch  Fare  Survived\n",
       "484       1    0  25.000000      0     3         1\n",
       "83        1    0  28.000000      0     3         0\n",
       "871       1    1  47.000000      1     3         1\n",
       "273       1    0  37.000000      1     2         0\n",
       "237       2    1   8.000000      2     2         1\n",
       "216       3    1  27.000000      0     1         1\n",
       "538       3    0  29.699118      0     2         0\n",
       "336       1    0  29.000000      0     3         0\n",
       "156       3    1  16.000000      0     0         1\n",
       "442       3    0  25.000000      0     0         0"
      ]
     },
     "execution_count": 77,
     "metadata": {},
     "output_type": "execute_result"
    }
   ],
   "source": [
    "jack_df.sample(10)"
   ]
  },
  {
   "cell_type": "code",
   "execution_count": 78,
   "metadata": {
    "_uuid": "a0e4270971528d6667f6c24ef5c1948c84746a0c",
    "collapsed": true
   },
   "outputs": [],
   "source": [
    "test_clean = test_clean[[\"Pclass\",\"Sex\",\"Age\", \"Parch\",\"Fare\"]]\n"
   ]
  },
  {
   "cell_type": "code",
   "execution_count": 79,
   "metadata": {
    "_uuid": "6461be127ec9c82df0928d98e3654b2df694c8bb"
   },
   "outputs": [
    {
     "data": {
      "text/html": [
       "<div>\n",
       "<style>\n",
       "    .dataframe thead tr:only-child th {\n",
       "        text-align: right;\n",
       "    }\n",
       "\n",
       "    .dataframe thead th {\n",
       "        text-align: left;\n",
       "    }\n",
       "\n",
       "    .dataframe tbody tr th {\n",
       "        vertical-align: top;\n",
       "    }\n",
       "</style>\n",
       "<table border=\"1\" class=\"dataframe\">\n",
       "  <thead>\n",
       "    <tr style=\"text-align: right;\">\n",
       "      <th></th>\n",
       "      <th>Pclass</th>\n",
       "      <th>Sex</th>\n",
       "      <th>Age</th>\n",
       "      <th>Parch</th>\n",
       "      <th>Fare</th>\n",
       "    </tr>\n",
       "  </thead>\n",
       "  <tbody>\n",
       "    <tr>\n",
       "      <th>251</th>\n",
       "      <td>3</td>\n",
       "      <td>0</td>\n",
       "      <td>20.00000</td>\n",
       "      <td>0</td>\n",
       "      <td>1</td>\n",
       "    </tr>\n",
       "    <tr>\n",
       "      <th>320</th>\n",
       "      <td>3</td>\n",
       "      <td>0</td>\n",
       "      <td>26.00000</td>\n",
       "      <td>0</td>\n",
       "      <td>0</td>\n",
       "    </tr>\n",
       "    <tr>\n",
       "      <th>3</th>\n",
       "      <td>3</td>\n",
       "      <td>0</td>\n",
       "      <td>27.00000</td>\n",
       "      <td>0</td>\n",
       "      <td>1</td>\n",
       "    </tr>\n",
       "    <tr>\n",
       "      <th>249</th>\n",
       "      <td>3</td>\n",
       "      <td>1</td>\n",
       "      <td>30.27259</td>\n",
       "      <td>0</td>\n",
       "      <td>2</td>\n",
       "    </tr>\n",
       "    <tr>\n",
       "      <th>237</th>\n",
       "      <td>3</td>\n",
       "      <td>0</td>\n",
       "      <td>20.00000</td>\n",
       "      <td>0</td>\n",
       "      <td>0</td>\n",
       "    </tr>\n",
       "  </tbody>\n",
       "</table>\n",
       "</div>"
      ],
      "text/plain": [
       "     Pclass  Sex       Age  Parch  Fare\n",
       "251       3    0  20.00000      0     1\n",
       "320       3    0  26.00000      0     0\n",
       "3         3    0  27.00000      0     1\n",
       "249       3    1  30.27259      0     2\n",
       "237       3    0  20.00000      0     0"
      ]
     },
     "execution_count": 79,
     "metadata": {},
     "output_type": "execute_result"
    }
   ],
   "source": [
    "test_clean.sample(5)"
   ]
  },
  {
   "cell_type": "markdown",
   "metadata": {
    "_uuid": "17eab886c02dd37ce16805f3a9e1b7b94fcffd4f"
   },
   "source": [
    "# <font color ='Purple'>I am going to build some test data for Jack that I have been able to find over the Internet related to these variables</font>\n",
    "\n",
    "**How did I collect this data??**\n",
    "\n",
    "This thing called the Internet!!! LOL\n",
    "\n",
    "No, really this is how!\n",
    "\n",
    "**Pclass:** At 0:47 mark of this video, you can see that the tickets which Jack won were 3rd class tickets. \n",
    "\n",
    "                    https://www.youtube.com/watch?v=k2p_5FHMONU\n",
    "\n",
    "**Sex:** Obviously!!!\n",
    "\n",
    "**Age:** Per Wiki and James Cameron himself, Jack was 20 years old at the time of events of Titanic. \n",
    "                http://jamescameronstitanic.wikia.com/wiki/Jack_Dawson\n",
    "                \n",
    "**Parch:** He had no children or parents with him.\n",
    "\n",
    "**Fare**: The way we engineered our Fares into quartiles, his **Pclass** would make his **Fare** the categorical value of **0**\n",
    "\n",
    "<font color ='red'>**Observation**</font>\n",
    "\n",
    "*  I am trying to build a datFrame from a dictionary. This is an interesting way of data entry and something I will use in my future kernels\n",
    "\n"
   ]
  },
  {
   "cell_type": "code",
   "execution_count": 80,
   "metadata": {
    "_uuid": "05bd87b9edf3b1cabe9bf15447f3fd83f15afbcd"
   },
   "outputs": [
    {
     "data": {
      "text/html": [
       "<div>\n",
       "<style>\n",
       "    .dataframe thead tr:only-child th {\n",
       "        text-align: right;\n",
       "    }\n",
       "\n",
       "    .dataframe thead th {\n",
       "        text-align: left;\n",
       "    }\n",
       "\n",
       "    .dataframe tbody tr th {\n",
       "        vertical-align: top;\n",
       "    }\n",
       "</style>\n",
       "<table border=\"1\" class=\"dataframe\">\n",
       "  <thead>\n",
       "    <tr style=\"text-align: right;\">\n",
       "      <th></th>\n",
       "      <th>Pclass</th>\n",
       "      <th>Sex</th>\n",
       "      <th>Age</th>\n",
       "      <th>Parch</th>\n",
       "      <th>Fare</th>\n",
       "    </tr>\n",
       "  </thead>\n",
       "  <tbody>\n",
       "    <tr>\n",
       "      <th>0</th>\n",
       "      <td>3</td>\n",
       "      <td>0</td>\n",
       "      <td>20</td>\n",
       "      <td>0</td>\n",
       "      <td>0</td>\n",
       "    </tr>\n",
       "  </tbody>\n",
       "</table>\n",
       "</div>"
      ],
      "text/plain": [
       "   Pclass  Sex  Age  Parch  Fare\n",
       "0       3    0   20      0     0"
      ]
     },
     "execution_count": 80,
     "metadata": {},
     "output_type": "execute_result"
    }
   ],
   "source": [
    "# jack_ = {'Pclass':3, 'Sex':0, 'Age': 20, 'Parch':0, 'Fare':0}\n",
    "jack_ = {'Pclass':[3], 'Sex':[0], 'Age': [20], 'Parch':[0], 'Fare':[0]}\n",
    "jack_test= pd.DataFrame(jack_, columns=['Pclass','Sex','Age','Parch','Fare'])\n",
    "jack_test"
   ]
  },
  {
   "cell_type": "markdown",
   "metadata": {
    "_uuid": "73dab87249c96d2f03484fb5527563457c60613b"
   },
   "source": [
    "#  <font color = 'purple'>We are going to use different machine learning models that deal with classification, and see how they compare on this problem.</font>\n",
    "**The algorithms and their scores are listed below**\n",
    "\n",
    "* Logistic Regressions**(78.74)** \n",
    "* KNN**(85.04)**\n",
    "* Support Vector Classifiers**(86.61)**\n",
    "* Decision Tree Classifiers**(93.81)**\n",
    "\n",
    "## <font color = 'green'>All of these algorithms predict that based on the data I provided for Jack, he would have died</font>\n"
   ]
  },
  {
   "cell_type": "markdown",
   "metadata": {
    "_uuid": "9896a1060549d034e50b750e76b974044e5e3785"
   },
   "source": [
    "# <font color ='purple'> Let's set up test/train for the dataset and import the machine learning libraries</font>"
   ]
  },
  {
   "cell_type": "code",
   "execution_count": 1,
   "metadata": {
    "_uuid": "7a7afb962368fc127cc1f00e8615fe39f09ab6a8",
    "collapsed": true
   },
   "outputs": [],
   "source": [
    "## MACHINE LEARNING LIBRARIES \n",
    "from sklearn.model_selection import train_test_split\n",
    "from sklearn.linear_model import LogisticRegression\n",
    "from sklearn import metrics\n",
    "from sklearn.neighbors import KNeighborsClassifier\n",
    "from sklearn.svm import SVC\n",
    "from sklearn.tree import DecisionTreeClassifier\n"
   ]
  },
  {
   "cell_type": "code",
   "execution_count": 2,
   "metadata": {
    "_uuid": "83af0d5e34af2c44749ebc0802f216e5ceed8c15"
   },
   "outputs": [
    {
     "ename": "NameError",
     "evalue": "name 'jack_df' is not defined",
     "output_type": "error",
     "traceback": [
      "\u001b[0;31m---------------------------------------------------------------------------\u001b[0m",
      "\u001b[0;31mNameError\u001b[0m                                 Traceback (most recent call last)",
      "\u001b[0;32m<ipython-input-2-98eb3c10f369>\u001b[0m in \u001b[0;36m<module>\u001b[0;34m()\u001b[0m\n\u001b[1;32m      1\u001b[0m \u001b[0;31m# Let's set up data\u001b[0m\u001b[0;34m\u001b[0m\u001b[0;34m\u001b[0m\u001b[0m\n\u001b[1;32m      2\u001b[0m \u001b[0;31m# all_features.head(5)\u001b[0m\u001b[0;34m\u001b[0m\u001b[0;34m\u001b[0m\u001b[0m\n\u001b[0;32m----> 3\u001b[0;31m \u001b[0mx_train\u001b[0m \u001b[0;34m=\u001b[0m \u001b[0mjack_df\u001b[0m\u001b[0;34m.\u001b[0m\u001b[0mdrop\u001b[0m\u001b[0;34m(\u001b[0m\u001b[0;34m'Survived'\u001b[0m\u001b[0;34m,\u001b[0m \u001b[0maxis\u001b[0m\u001b[0;34m=\u001b[0m\u001b[0;36m1\u001b[0m\u001b[0;34m)\u001b[0m\u001b[0;34m\u001b[0m\u001b[0m\n\u001b[0m\u001b[1;32m      4\u001b[0m \u001b[0my_train\u001b[0m \u001b[0;34m=\u001b[0m \u001b[0mjack_df\u001b[0m\u001b[0;34m[\u001b[0m\u001b[0;34m[\u001b[0m\u001b[0;34m\"Survived\"\u001b[0m\u001b[0;34m]\u001b[0m\u001b[0;34m]\u001b[0m\u001b[0;34m\u001b[0m\u001b[0m\n\u001b[1;32m      5\u001b[0m \u001b[0;31m# x_test  = test_clean.drop(\"PassengerId\", axis=1).copy()\u001b[0m\u001b[0;34m\u001b[0m\u001b[0;34m\u001b[0m\u001b[0m\n",
      "\u001b[0;31mNameError\u001b[0m: name 'jack_df' is not defined"
     ]
    }
   ],
   "source": [
    "# Let's set up data\n",
    "# all_features.head(5)\n",
    "x_train = jack_df.drop('Survived', axis=1)\n",
    "y_train = jack_df[[\"Survived\"]]\n",
    "# x_test  = test_clean.drop(\"PassengerId\", axis=1).copy()\n",
    "x_test = test_clean.copy()\n",
    "x_train.shape,y_train.shape, x_test.shape#,  y_test.shape"
   ]
  },
  {
   "cell_type": "code",
   "execution_count": 39,
   "metadata": {
    "_uuid": "7f17989f9f5436d095aa2119addf0cdec2816010"
   },
   "outputs": [
    {
     "data": {
      "text/html": [
       "<div>\n",
       "<style>\n",
       "    .dataframe thead tr:only-child th {\n",
       "        text-align: right;\n",
       "    }\n",
       "\n",
       "    .dataframe thead th {\n",
       "        text-align: left;\n",
       "    }\n",
       "\n",
       "    .dataframe tbody tr th {\n",
       "        vertical-align: top;\n",
       "    }\n",
       "</style>\n",
       "<table border=\"1\" class=\"dataframe\">\n",
       "  <thead>\n",
       "    <tr style=\"text-align: right;\">\n",
       "      <th></th>\n",
       "      <th>Pclass</th>\n",
       "      <th>Sex</th>\n",
       "      <th>Age</th>\n",
       "      <th>Parch</th>\n",
       "      <th>Fare</th>\n",
       "    </tr>\n",
       "  </thead>\n",
       "  <tbody>\n",
       "    <tr>\n",
       "      <th>0</th>\n",
       "      <td>3</td>\n",
       "      <td>0</td>\n",
       "      <td>22.0</td>\n",
       "      <td>0</td>\n",
       "      <td>0</td>\n",
       "    </tr>\n",
       "    <tr>\n",
       "      <th>1</th>\n",
       "      <td>1</td>\n",
       "      <td>1</td>\n",
       "      <td>38.0</td>\n",
       "      <td>0</td>\n",
       "      <td>3</td>\n",
       "    </tr>\n",
       "    <tr>\n",
       "      <th>2</th>\n",
       "      <td>3</td>\n",
       "      <td>1</td>\n",
       "      <td>26.0</td>\n",
       "      <td>0</td>\n",
       "      <td>1</td>\n",
       "    </tr>\n",
       "    <tr>\n",
       "      <th>3</th>\n",
       "      <td>1</td>\n",
       "      <td>1</td>\n",
       "      <td>35.0</td>\n",
       "      <td>0</td>\n",
       "      <td>3</td>\n",
       "    </tr>\n",
       "    <tr>\n",
       "      <th>4</th>\n",
       "      <td>3</td>\n",
       "      <td>0</td>\n",
       "      <td>35.0</td>\n",
       "      <td>0</td>\n",
       "      <td>1</td>\n",
       "    </tr>\n",
       "  </tbody>\n",
       "</table>\n",
       "</div>"
      ],
      "text/plain": [
       "   Pclass  Sex   Age  Parch  Fare\n",
       "0       3    0  22.0      0     0\n",
       "1       1    1  38.0      0     3\n",
       "2       3    1  26.0      0     1\n",
       "3       1    1  35.0      0     3\n",
       "4       3    0  35.0      0     1"
      ]
     },
     "execution_count": 39,
     "metadata": {},
     "output_type": "execute_result"
    }
   ],
   "source": [
    "x_train.head(5)\n"
   ]
  },
  {
   "cell_type": "code",
   "execution_count": 40,
   "metadata": {
    "_uuid": "f71d36916ab0034cd9d0f04226bae44cff06470b"
   },
   "outputs": [
    {
     "data": {
      "text/html": [
       "<div>\n",
       "<style>\n",
       "    .dataframe thead tr:only-child th {\n",
       "        text-align: right;\n",
       "    }\n",
       "\n",
       "    .dataframe thead th {\n",
       "        text-align: left;\n",
       "    }\n",
       "\n",
       "    .dataframe tbody tr th {\n",
       "        vertical-align: top;\n",
       "    }\n",
       "</style>\n",
       "<table border=\"1\" class=\"dataframe\">\n",
       "  <thead>\n",
       "    <tr style=\"text-align: right;\">\n",
       "      <th></th>\n",
       "      <th>Pclass</th>\n",
       "      <th>Sex</th>\n",
       "      <th>Age</th>\n",
       "      <th>Parch</th>\n",
       "      <th>Fare</th>\n",
       "    </tr>\n",
       "  </thead>\n",
       "  <tbody>\n",
       "    <tr>\n",
       "      <th>0</th>\n",
       "      <td>3</td>\n",
       "      <td>0</td>\n",
       "      <td>34.5</td>\n",
       "      <td>0</td>\n",
       "      <td>0</td>\n",
       "    </tr>\n",
       "    <tr>\n",
       "      <th>1</th>\n",
       "      <td>3</td>\n",
       "      <td>1</td>\n",
       "      <td>47.0</td>\n",
       "      <td>0</td>\n",
       "      <td>0</td>\n",
       "    </tr>\n",
       "    <tr>\n",
       "      <th>2</th>\n",
       "      <td>2</td>\n",
       "      <td>0</td>\n",
       "      <td>62.0</td>\n",
       "      <td>0</td>\n",
       "      <td>1</td>\n",
       "    </tr>\n",
       "    <tr>\n",
       "      <th>3</th>\n",
       "      <td>3</td>\n",
       "      <td>0</td>\n",
       "      <td>27.0</td>\n",
       "      <td>0</td>\n",
       "      <td>1</td>\n",
       "    </tr>\n",
       "    <tr>\n",
       "      <th>4</th>\n",
       "      <td>3</td>\n",
       "      <td>1</td>\n",
       "      <td>22.0</td>\n",
       "      <td>1</td>\n",
       "      <td>1</td>\n",
       "    </tr>\n",
       "  </tbody>\n",
       "</table>\n",
       "</div>"
      ],
      "text/plain": [
       "   Pclass  Sex   Age  Parch  Fare\n",
       "0       3    0  34.5      0     0\n",
       "1       3    1  47.0      0     0\n",
       "2       2    0  62.0      0     1\n",
       "3       3    0  27.0      0     1\n",
       "4       3    1  22.0      1     1"
      ]
     },
     "execution_count": 40,
     "metadata": {},
     "output_type": "execute_result"
    }
   ],
   "source": [
    "x_test.head(5)"
   ]
  },
  {
   "cell_type": "code",
   "execution_count": 41,
   "metadata": {
    "_uuid": "77c8aa371ad3e23dcfb59a4fafb85f6b52751885"
   },
   "outputs": [
    {
     "data": {
      "text/html": [
       "<div>\n",
       "<style>\n",
       "    .dataframe thead tr:only-child th {\n",
       "        text-align: right;\n",
       "    }\n",
       "\n",
       "    .dataframe thead th {\n",
       "        text-align: left;\n",
       "    }\n",
       "\n",
       "    .dataframe tbody tr th {\n",
       "        vertical-align: top;\n",
       "    }\n",
       "</style>\n",
       "<table border=\"1\" class=\"dataframe\">\n",
       "  <thead>\n",
       "    <tr style=\"text-align: right;\">\n",
       "      <th></th>\n",
       "      <th>Survived</th>\n",
       "    </tr>\n",
       "  </thead>\n",
       "  <tbody>\n",
       "    <tr>\n",
       "      <th>0</th>\n",
       "      <td>0</td>\n",
       "    </tr>\n",
       "    <tr>\n",
       "      <th>1</th>\n",
       "      <td>1</td>\n",
       "    </tr>\n",
       "    <tr>\n",
       "      <th>2</th>\n",
       "      <td>1</td>\n",
       "    </tr>\n",
       "    <tr>\n",
       "      <th>3</th>\n",
       "      <td>1</td>\n",
       "    </tr>\n",
       "    <tr>\n",
       "      <th>4</th>\n",
       "      <td>0</td>\n",
       "    </tr>\n",
       "  </tbody>\n",
       "</table>\n",
       "</div>"
      ],
      "text/plain": [
       "   Survived\n",
       "0         0\n",
       "1         1\n",
       "2         1\n",
       "3         1\n",
       "4         0"
      ]
     },
     "execution_count": 41,
     "metadata": {},
     "output_type": "execute_result"
    }
   ],
   "source": [
    "y_train.head()"
   ]
  },
  {
   "cell_type": "code",
   "execution_count": 42,
   "metadata": {
    "_uuid": "cc884d73db3c440754882808af0ec6fb949c2f36",
    "collapsed": true
   },
   "outputs": [],
   "source": [
    "def jack_output(jack_p):\n",
    "    for i in jack_p:\n",
    "        print(jack_p[i])\n",
    "        if jack_p == 0:\n",
    "            result = \"JACK DIDN'T SURVIVE :'(\" \n",
    "        else:\n",
    "            result = 'JACK SURVIVED!!!!'\n",
    "    return result \n"
   ]
  },
  {
   "cell_type": "markdown",
   "metadata": {
    "_uuid": "c738a896e0c7ba6f37ccda35c5443d5ea7408501"
   },
   "source": [
    "## LOGISTIC REGRESSION\n",
    "\n",
    "**Basic intro for Logistic Regression**\n",
    "* Logistic Regression is used binary classification problems.\n",
    "* Based on Sigmoid function which classifies a new point as class A or B depending on whether it is above or below a certain threshold value X.\n",
    "* This serves as a powerful way of classifying binary problems becuase it only cares about whether a new value is above or below a certain threshold. \n",
    "* Hence, I used this algorithm for this problem\n",
    "![](http://cdn-images-1.medium.com/max/800/1*RqXFpiNGwdiKBWyLJc_E7g.png)\n",
    "\n"
   ]
  },
  {
   "cell_type": "markdown",
   "metadata": {},
   "source": [
    "#### "
   ]
  },
  {
   "cell_type": "code",
   "execution_count": 43,
   "metadata": {
    "_uuid": "bd0183b652cc6577d832b3a5a7627c18d27a995f",
    "scrolled": true
   },
   "outputs": [
    {
     "name": "stdout",
     "output_type": "stream",
     "text": [
      "0\n",
      "\n",
      " Per Logistic Regression  JACK DIDN'T SURVIVE :'( \n",
      "\n",
      "Logistic Regression score:  78.74\n"
     ]
    },
    {
     "name": "stderr",
     "output_type": "stream",
     "text": [
      "/home/sanwal092/anaconda3/lib/python3.6/site-packages/sklearn/utils/validation.py:547: DataConversionWarning: A column-vector y was passed when a 1d array was expected. Please change the shape of y to (n_samples, ), for example using ravel().\n",
      "  y = column_or_1d(y, warn=True)\n"
     ]
    }
   ],
   "source": [
    "# Logistic Regression \n",
    "clf = LogisticRegression()\n",
    "clf.fit(x_train, y_train)\n",
    "y_pred = clf.predict(x_test)\n",
    "jack_log = clf.predict(jack_test)\n",
    "jack_logVal = jack_output(jack_log)\n",
    "log_score = round(clf.score(x_train,y_train)*100,2)\n",
    "print('\\n Per Logistic Regression ', jack_logVal,'\\n')\n",
    "print('Logistic Regression score: ',log_score)\n"
   ]
  },
  {
   "cell_type": "markdown",
   "metadata": {
    "_uuid": "e1e8e0bc9952e6c2e6b40b6c62a4a107900633cd"
   },
   "source": [
    "# KNN \n",
    "**Basic Intro for KNN**\n",
    " * KNN is another classification algorithm.\n",
    " * It works by using clusters as the delineation for the known and unknown datasets. \n",
    " * It, first of all, starts by creating random clusters(you can choose clusters based on meta knowledge of the dataset).\n",
    " * Now, when a new datapoint comes in, it sees what is the closest cluster to the data point. \n",
    " * Once that is done, it recalculates the clusters centers adn recalculates the repeats the process until the best possible classification has been found."
   ]
  },
  {
   "cell_type": "code",
   "execution_count": 44,
   "metadata": {
    "_uuid": "a2e11c85665dfa61d56ca8a1ad77cf558b4bd546"
   },
   "outputs": [
    {
     "name": "stdout",
     "output_type": "stream",
     "text": [
      "0\n",
      "\n",
      "Per KNN  JACK DIDN'T SURVIVE :'( \n",
      "\n",
      "The score for KNN is:  85.04\n"
     ]
    },
    {
     "name": "stderr",
     "output_type": "stream",
     "text": [
      "/home/sanwal092/anaconda3/lib/python3.6/site-packages/ipykernel_launcher.py:3: DataConversionWarning: A column-vector y was passed when a 1d array was expected. Please change the shape of y to (n_samples, ), for example using ravel().\n",
      "  This is separate from the ipykernel package so we can avoid doing imports until\n"
     ]
    }
   ],
   "source": [
    "# K Nearest Neighbors \n",
    "knn = KNeighborsClassifier()\n",
    "knn.fit(x_train, y_train)\n",
    "y_pred = knn.predict(x_test)\n",
    "jack_nn = knn.predict(jack_test)\n",
    "jack_knn_out = jack_output(jack_nn)\n",
    "k_score = round(knn.score(x_train, y_train) * 100, 2)\n",
    "print('\\nPer KNN ',jack_knn_out,'\\n')\n",
    "print('The score for KNN is: ',k_score)\n",
    "# print(y_pred)"
   ]
  },
  {
   "cell_type": "markdown",
   "metadata": {
    "_uuid": "7721c7e195c62c506239d37a245179a4c960b240"
   },
   "source": [
    "# Support Vector Classifiers\n",
    "\n",
    "**Basic Intro to SVC**\n",
    "\n",
    "* Once considered the ultimate machine learning algorithm.\n",
    "* It creates classification by seperating the classes best  by using a hyperplane to seperate them."
   ]
  },
  {
   "cell_type": "code",
   "execution_count": 45,
   "metadata": {
    "_uuid": "a312978ff18e89005d938fd635fc5506c0bd2f6b"
   },
   "outputs": [
    {
     "name": "stdout",
     "output_type": "stream",
     "text": [
      "0\n",
      "Per SVC  JACK DIDN'T SURVIVE :'(\n",
      "The score for SVC is:  86.61\n"
     ]
    },
    {
     "name": "stderr",
     "output_type": "stream",
     "text": [
      "/home/sanwal092/anaconda3/lib/python3.6/site-packages/sklearn/utils/validation.py:547: DataConversionWarning: A column-vector y was passed when a 1d array was expected. Please change the shape of y to (n_samples, ), for example using ravel().\n",
      "  y = column_or_1d(y, warn=True)\n"
     ]
    }
   ],
   "source": [
    "# Support Vector Classifiers\n",
    "svc = SVC(gamma='auto')\n",
    "svc.fit(x_train, y_train)\n",
    "y_pred = svc.predict(x_test)\n",
    "jack_svc = svc.predict(jack_test)\n",
    "jack_svc_out = jack_output(jack_svc)\n",
    "svc_score = round(svc.score(x_train,y_train)*100,2)\n",
    "print('Per SVC ', jack_svc_out)\n",
    "print('The score for SVC is: ', svc_score)\n"
   ]
  },
  {
   "cell_type": "markdown",
   "metadata": {
    "_uuid": "76e3b327b51f53a178e7a964ed86374b00c35fd1"
   },
   "source": [
    "# Decision Tree\n",
    "\n",
    "**Basic Intro to  Decision Tree**\n",
    "\n",
    "* Classifies an unknown data point by slicing data across the dimensions. \n",
    "* it continues this until there is an optimal level of classification achieved or the some preset conditionn is met. \n",
    "\n",
    "![](http://cdn-images-1.medium.com/max/800/1*1CchuZc1nLM3B60zS7A1yw.png)"
   ]
  },
  {
   "cell_type": "code",
   "execution_count": 46,
   "metadata": {
    "_uuid": "55480d29c7e287b16f9c9a9afbdcec838365d94f"
   },
   "outputs": [
    {
     "name": "stdout",
     "output_type": "stream",
     "text": [
      "0\n",
      "\n",
      "Per Decision Tree  JACK DIDN'T SURVIVE :'( \n",
      "\n",
      "The score for Decision Tree classifer is:  93.81\n"
     ]
    }
   ],
   "source": [
    "# Decision Tree Classifiers\n",
    "\n",
    "tree= DecisionTreeClassifier(max_depth = 100, random_state = 42)\n",
    "tree.fit(x_train,y_train)\n",
    "tree_pred = tree.predict(x_test)\n",
    "jack_tree = tree.predict(jack_test)\n",
    "jack_tree_out = jack_output(jack_tree)\n",
    "tree_score = round(tree.score(x_train, y_train)*100,2)\n",
    "print('\\nPer Decision Tree ', jack_tree_out,'\\n')\n",
    "print('The score for Decision Tree classifer is: ',tree_score)\n"
   ]
  },
  {
   "cell_type": "markdown",
   "metadata": {
    "_uuid": "50e01782c15fcaa3c050290ef9cadd2939630b8b"
   },
   "source": [
    "## Let's keep track of the progress we are making with the Algorithms \n"
   ]
  },
  {
   "cell_type": "code",
   "execution_count": 81,
   "metadata": {
    "_uuid": "48a2853b12d225ec0a9fddeae94c56d774c045c5"
   },
   "outputs": [
    {
     "ename": "NameError",
     "evalue": "name 'log_score' is not defined",
     "output_type": "error",
     "traceback": [
      "\u001b[0;31m---------------------------------------------------------------------------\u001b[0m",
      "\u001b[0;31mNameError\u001b[0m                                 Traceback (most recent call last)",
      "\u001b[0;32m<ipython-input-81-90ad761451cb>\u001b[0m in \u001b[0;36m<module>\u001b[0;34m()\u001b[0m\n\u001b[0;32m----> 1\u001b[0;31m \u001b[0malgo_scores\u001b[0m \u001b[0;34m=\u001b[0m \u001b[0;34m{\u001b[0m\u001b[0;34m'Logistic Regression'\u001b[0m\u001b[0;34m:\u001b[0m \u001b[0;34m[\u001b[0m\u001b[0mlog_score\u001b[0m\u001b[0;34m]\u001b[0m\u001b[0;34m,\u001b[0m \u001b[0;34m'KNN'\u001b[0m\u001b[0;34m:\u001b[0m\u001b[0;34m[\u001b[0m\u001b[0mk_score\u001b[0m\u001b[0;34m]\u001b[0m\u001b[0;34m,\u001b[0m \u001b[0;34m'SVC'\u001b[0m\u001b[0;34m:\u001b[0m \u001b[0;34m[\u001b[0m\u001b[0msvc_score\u001b[0m\u001b[0;34m]\u001b[0m\u001b[0;34m,\u001b[0m \u001b[0;34m'Decision Tree'\u001b[0m\u001b[0;34m:\u001b[0m\u001b[0;34m[\u001b[0m\u001b[0mtree_score\u001b[0m\u001b[0;34m]\u001b[0m\u001b[0;34m}\u001b[0m\u001b[0;34m\u001b[0m\u001b[0m\n\u001b[0m\u001b[1;32m      2\u001b[0m \u001b[0malgo_df\u001b[0m \u001b[0;34m=\u001b[0m \u001b[0;34m(\u001b[0m\u001b[0mpd\u001b[0m\u001b[0;34m.\u001b[0m\u001b[0mDataFrame\u001b[0m\u001b[0;34m(\u001b[0m\u001b[0malgo_scores\u001b[0m\u001b[0;34m,\u001b[0m \u001b[0mcolumns\u001b[0m \u001b[0;34m=\u001b[0m \u001b[0mlist\u001b[0m\u001b[0;34m(\u001b[0m\u001b[0malgo_scores\u001b[0m\u001b[0;34m.\u001b[0m\u001b[0mkeys\u001b[0m\u001b[0;34m(\u001b[0m\u001b[0;34m)\u001b[0m\u001b[0;34m)\u001b[0m\u001b[0;34m)\u001b[0m\u001b[0;34m.\u001b[0m\u001b[0mT\u001b[0m\u001b[0;34m)\u001b[0m\u001b[0;34m\u001b[0m\u001b[0m\n\u001b[1;32m      3\u001b[0m \u001b[0malgo_perform\u001b[0m \u001b[0;34m=\u001b[0m \u001b[0malgo_df\u001b[0m\u001b[0;34m.\u001b[0m\u001b[0mreset_index\u001b[0m\u001b[0;34m(\u001b[0m\u001b[0;34m)\u001b[0m\u001b[0;34m\u001b[0m\u001b[0m\n\u001b[1;32m      4\u001b[0m \u001b[0malgo_perform\u001b[0m\u001b[0;34m.\u001b[0m\u001b[0mcolumns\u001b[0m \u001b[0;34m=\u001b[0m \u001b[0;34m[\u001b[0m\u001b[0;34m'Algorithm'\u001b[0m\u001b[0;34m,\u001b[0m \u001b[0;34m'Score'\u001b[0m\u001b[0;34m]\u001b[0m\u001b[0;34m\u001b[0m\u001b[0m\n\u001b[1;32m      5\u001b[0m \u001b[0malgo_perform\u001b[0m\u001b[0;34m\u001b[0m\u001b[0m\n",
      "\u001b[0;31mNameError\u001b[0m: name 'log_score' is not defined"
     ]
    }
   ],
   "source": [
    "algo_scores = {'Logistic Regression': [log_score], 'KNN':[k_score], 'SVC': [svc_score], 'Decision Tree':[tree_score]}\n",
    "algo_df = (pd.DataFrame(algo_scores, columns = list(algo_scores.keys())).T)\n",
    "algo_perform = algo_df.reset_index()\n",
    "algo_perform.columns = ['Algorithm', 'Score']\n",
    "algo_perform"
   ]
  },
  {
   "cell_type": "code",
   "execution_count": 48,
   "metadata": {
    "_uuid": "b866a09bd307823b5a063bfb0659fef7bcda34cd",
    "collapsed": true
   },
   "outputs": [],
   "source": [
    "plt.plot(algo_perform['Algorithm'],algo_perform['Score'])\n",
    "plt.title('The performance of the algorithms')\n",
    "plt.grid()\n",
    "\n"
   ]
  },
  {
   "cell_type": "markdown",
   "metadata": {
    "_uuid": "3b11b5005018f31032742712fa40ab3ee43a6068"
   },
   "source": [
    "# <font color='red'> Conclusion</font>\n",
    "* If Jack existed in real life, these models predict that he would have died more likely than not and not from hypothermia because he Rose wasn't willing to take turns on that make shift raft.\n",
    "* Based on the fact that, Jack had \n",
    "    * Third class tickets.\n",
    "    * 20 years old male.\n",
    "    * Didn't have any parents or children with him.\n",
    "    * Had no siblings with him. \n",
    "    \n",
    "    ## HE WOULD HAVE MORE LIKELY THAN NOT  DIED. \n",
    "    "
   ]
  },
  {
   "cell_type": "markdown",
   "metadata": {},
   "source": [
    "# General purpose machine learning predictions\n"
   ]
  },
  {
   "cell_type": "code",
   "execution_count": 63,
   "metadata": {},
   "outputs": [
    {
     "data": {
      "text/plain": [
       "(418,)"
      ]
     },
     "execution_count": 63,
     "metadata": {},
     "output_type": "execute_result"
    }
   ],
   "source": [
    "from sklearn.tree import DecisionTreeClassifier\n",
    "clf =  DecisionTreeClassifier(max_depth = 100, random_state = 42)\n",
    "clf.fit(x_train,y_train)\n",
    "pred = clf.predict(x_test)\n",
    "pred.shape"
   ]
  },
  {
   "cell_type": "code",
   "execution_count": 66,
   "metadata": {},
   "outputs": [
    {
     "name": "stderr",
     "output_type": "stream",
     "text": [
      "/home/sanwal092/anaconda3/lib/python3.6/site-packages/ipykernel_launcher.py:3: DataConversionWarning: A column-vector y was passed when a 1d array was expected. Please change the shape of y to (n_samples,), for example using ravel().\n",
      "  This is separate from the ipykernel package so we can avoid doing imports until\n"
     ]
    },
    {
     "data": {
      "text/plain": [
       "(418,)"
      ]
     },
     "execution_count": 66,
     "metadata": {},
     "output_type": "execute_result"
    }
   ],
   "source": [
    " from sklearn.ensemble import RandomForestClassifier\n",
    "for_clf = RandomForestClassifier(n_estimators = 100)\n",
    "for_clf.fit(x_train,y_train)\n",
    "pred_for = for_clf.predict(x_test)\n",
    "pred_for.shape"
   ]
  },
  {
   "cell_type": "code",
   "execution_count": 68,
   "metadata": {},
   "outputs": [
    {
     "data": {
      "text/html": [
       "<div>\n",
       "<style>\n",
       "    .dataframe thead tr:only-child th {\n",
       "        text-align: right;\n",
       "    }\n",
       "\n",
       "    .dataframe thead th {\n",
       "        text-align: left;\n",
       "    }\n",
       "\n",
       "    .dataframe tbody tr th {\n",
       "        vertical-align: top;\n",
       "    }\n",
       "</style>\n",
       "<table border=\"1\" class=\"dataframe\">\n",
       "  <thead>\n",
       "    <tr style=\"text-align: right;\">\n",
       "      <th></th>\n",
       "      <th>PassengerId</th>\n",
       "      <th>Survived</th>\n",
       "    </tr>\n",
       "  </thead>\n",
       "  <tbody>\n",
       "    <tr>\n",
       "      <th>0</th>\n",
       "      <td>892</td>\n",
       "      <td>0</td>\n",
       "    </tr>\n",
       "    <tr>\n",
       "      <th>1</th>\n",
       "      <td>893</td>\n",
       "      <td>0</td>\n",
       "    </tr>\n",
       "    <tr>\n",
       "      <th>2</th>\n",
       "      <td>894</td>\n",
       "      <td>1</td>\n",
       "    </tr>\n",
       "    <tr>\n",
       "      <th>3</th>\n",
       "      <td>895</td>\n",
       "      <td>1</td>\n",
       "    </tr>\n",
       "    <tr>\n",
       "      <th>4</th>\n",
       "      <td>896</td>\n",
       "      <td>1</td>\n",
       "    </tr>\n",
       "  </tbody>\n",
       "</table>\n",
       "</div>"
      ],
      "text/plain": [
       "   PassengerId  Survived\n",
       "0          892         0\n",
       "1          893         0\n",
       "2          894         1\n",
       "3          895         1\n",
       "4          896         1"
      ]
     },
     "execution_count": 68,
     "metadata": {},
     "output_type": "execute_result"
    }
   ],
   "source": [
    "# Submission \n",
    "submission = pd.DataFrame({'PassengerId':test_data['PassengerId'],'Survived':pred_for})\n",
    "submission.head()\n",
    "\n"
   ]
  },
  {
   "cell_type": "code",
   "execution_count": 69,
   "metadata": {},
   "outputs": [
    {
     "name": "stdout",
     "output_type": "stream",
     "text": [
      "Saved file: Titanic Predictions forrest.csv\n"
     ]
    }
   ],
   "source": [
    "filename = 'Titanic Predictions forrest.csv'\n",
    "\n",
    "submission.to_csv(filename,index=False)\n",
    "\n",
    "print('Saved file: ' + filename)"
   ]
  }
 ],
 "metadata": {
  "kernelspec": {
   "display_name": "Python 3",
   "language": "python",
   "name": "python3"
  },
  "language_info": {
   "codemirror_mode": {
    "name": "ipython",
    "version": 3
   },
   "file_extension": ".py",
   "mimetype": "text/x-python",
   "name": "python",
   "nbconvert_exporter": "python",
   "pygments_lexer": "ipython3",
   "version": "3.6.3"
  }
 },
 "nbformat": 4,
 "nbformat_minor": 1
}
